{
 "cells": [
  {
   "cell_type": "markdown",
   "id": "42b0c8f3-1209-4096-aee3-0c1c1970a26a",
   "metadata": {},
   "source": [
    "# SCRIPT DESCRIPTION"
   ]
  },
  {
   "cell_type": "raw",
   "id": "0f58dec7-91fc-45d0-aff4-d9de2b738753",
   "metadata": {
    "vscode": {
     "languageId": "raw"
    }
   },
   "source": [
    "When testing the switch-scanning speller, a video camera was used to capture the participant's movements of his right\n",
    "hand. This is because he would generate clicks by attempting single grasps of his hand and these residual movements were\n",
    "still observable. Thus, these were used as ground truth for movement onset. Video of his hand needs to be synchronized \n",
    "to the BCI2000 data that contains neural signals as well as state changes corresponding to clicks.\n",
    "\n",
    "For this, the video of the relevant block was cropped (in Premiere Pro) in such a way as to best approximate the start\n",
    "time of BCI2000. Specifically, the starting point of the video (0 seconds) was the first frame when the System Status\n",
    "of the BCI2000 Operator was \"Running\" (the status in the previous frame was \"Waiting...\"). However, there are likely\n",
    "some spelling blocks that do not start at that time frame and this is likely accidental (they can still be synchronized\n",
    "due to the existance of an auditory cue).\n",
    "\n",
    "Despite this cropping, there may still be an interval of time between when the \"Running\" status appears on BCI2000\n",
    "Operator and when the participant actually starts performing the task. This time may be even 10-20 s long in some cases.\n",
    "Similarly, at the end of the video, there may be a few seconds after the task ends in which the video is still\n",
    "recording. The videos for each spelling block were cropped this way in order to guarantee that all the relevant \n",
    "information was included, even at the expense of a few seconds at the beginning and the end where the participant may\n",
    "have not have been sitting still and may have been performing miscellaneous movements.\n",
    "\n",
    "In this script, we save fine-tuned information describing the truly relevant starting and ending points of the video. \n",
    "Specifically, we append a .txt file with the starting and ending points in units of seconds and frames that were \n",
    "converted from hh:mm:ss:ff units from Premiere Pro.\n",
    "\n",
    "These starting and ending points are then used in two other scripts (curtailing_video_data.ipynb and \n",
    "curtailing_bci2000_data.ipynb) to curtail the video information and BCI2000 information respectively.\n"
   ]
  },
  {
   "cell_type": "markdown",
   "id": "5e1304d6-08e2-41bc-b129-621ab8128453",
   "metadata": {},
   "source": [
    "# IMPORTING LIBRARIES"
   ]
  },
  {
   "cell_type": "code",
   "execution_count": 1,
   "id": "47236846-17d6-4426-a37f-0acbde08efbe",
   "metadata": {},
   "outputs": [],
   "source": [
    "# Please check to ensure that all of the libraries imported in functions_computing_block_start_stop_times.py are \n",
    "# installed in your environment or in the same file pathway. \n",
    "import functions_computing_block_start_stop_times\n"
   ]
  },
  {
   "cell_type": "markdown",
   "id": "9baf8744-dbd9-4d44-8721-2768f2d94da0",
   "metadata": {},
   "source": [
    "# INPUTTING PARAMETERS"
   ]
  },
  {
   "cell_type": "code",
   "execution_count": 2,
   "id": "502ad625-5540-4cb5-b503-39e8b4cdd7bc",
   "metadata": {},
   "outputs": [],
   "source": [
    "\"\"\"\n",
    "DESCRIPTION:\n",
    "Please input the parameters below.\n",
    "\"\"\"\n",
    "\n",
    "# EXPERIMENTER INPUTS\n",
    "block_id   = 'Block2'\n",
    "date       = '2023_06_02'\n",
    "dir_base   = '../SourceData/BlocksStartAndStops/'\n",
    "fps        = 60 # FPS is 60 starting 2023_01_10 (2023, January 10th)\n",
    "patient_id = 'CC01'\n",
    "\n",
    "\"\"\"\n",
    "INPUT VARIABLES:\n",
    "block_id:   [String (BlockX, where X is an int)]; Block ID of the task that was run.\n",
    "date:       [string (YYYY_MM_DD)]; Date on which the block was run.\n",
    "dir_base:   [string]; Directory containing the start and stop times for each block.\n",
    "fps:        [int (30 or 60)]; Frames per second of of the video recording. Note that 30 FPS was from Aug 2022 - \n",
    "            Jan 6th 2023.\n",
    "patient_id: [string]; Patient ID PYyyNnn or CCxx format, where y, n, and x are integers.\n",
    "\"\"\";"
   ]
  },
  {
   "cell_type": "markdown",
   "id": "2ea0c815-fbf5-42f9-bf43-a85a57d40f28",
   "metadata": {},
   "source": [
    "# COMPUTING BLOCK START AND STOP TIMES"
   ]
  },
  {
   "cell_type": "code",
   "execution_count": 3,
   "id": "e7643de8-995b-4b1e-a472-06f877fc9e51",
   "metadata": {},
   "outputs": [
    {
     "name": "stdout",
     "output_type": "stream",
     "text": [
      "Total block time (s):  928.417\n"
     ]
    }
   ],
   "source": [
    "\"\"\"\n",
    "DESCRIPTION:\n",
    "Importing the starting an ending points of the video that show only the truly relevant movement information for the\n",
    "experimenter-specified spelling block. By looking at the video recording from that block, these starting and ending \n",
    "times are determined according to when the participant starts and ends making task-related hand movements.\n",
    "\n",
    "INPUT VARIABLES:\n",
    "block_id:   [String (BlockX, where X is an int)]; Block ID of the task that was run.\n",
    "date:       [string (YYYY_MM_DD)]; Date on which the current block was run.\n",
    "dir_base:   [string]; Directory containing the start and stop times for each block.\n",
    "fps:        [int (30 or 60)]; Frames per second of of the video recording. Note that 30 FPS was from Aug 2022 - \n",
    "            Jan 6th 2023.\n",
    "patient_id: [string]; Patient ID PYyyNnn or CCxx format, where y, n, and x are integers.\n",
    "\n",
    "OUTPUT VARIABLES:\n",
    "frame_block_start: [int]; Starting video frame of the task-related activity. \n",
    "frame_block_end:   [int]; Ending video frame of the task-related activity. \n",
    "t_block_start:     [int (units: s)]; Starting time of the task-related activity. \n",
    "t_block_end:       [int (units: s)]; Ending time of the task-related activity. \n",
    "\"\"\"\n",
    "\n",
    "# COMPUTATION:\n",
    "\n",
    "# Extracting the start and end time for the experimenter-specified block.\n",
    "frame_block_start,\\\n",
    "frame_block_end,\\\n",
    "t_block_start,\\\n",
    "t_block_end = functions_computing_block_start_stop_times.extract_start_stop_times_from_txt(block_id, date,\\\n",
    "                                                                                           dir_base, fps,\\\n",
    "                                                                                           patient_id)\n"
   ]
  },
  {
   "cell_type": "markdown",
   "id": "faa862dc-0784-4938-b56f-8050bc2f5387",
   "metadata": {},
   "source": [
    "# WRITING TO TEXT FILE"
   ]
  },
  {
   "cell_type": "code",
   "execution_count": 4,
   "id": "84692b95-a89a-4e53-9070-d774f2932c41",
   "metadata": {},
   "outputs": [],
   "source": [
    "\"\"\"\n",
    "DESCRIPTION:\n",
    "Writing the block start and stop times in units of seconds and frames back to the text file. \n",
    "\n",
    "INPUT VARIABLES:\n",
    "block_id:          [String (BlockX, where X is an int)]; Block ID of the task that was run.\n",
    "date:              [string (YYYY_MM_DD)]; Date on which the current block was run.\n",
    "dir_base:          [string]; Directory containing the start and stop times for each block.\n",
    "frame_block_start: [int]; Starting video frame of the task-related activity. \n",
    "frame_block_end:   [int]; Ending video frame of the task-related activity. \n",
    "patient_id:        [string]; Patient ID PYyyNnn or CCxx format, where y, n, and x are integers.\n",
    "t_block_start:     [int (units: s)]; Starting time of the task-related activity. \n",
    "t_block_end:       [int (units: s)]; Ending time of the task-related activity. \n",
    "\"\"\"\n",
    "\n",
    "# COMPUTATION:\n",
    "\n",
    "# Writing to text file.\n",
    "functions_computing_block_start_stop_times.writing_to_text_file(block_id, date, dir_base, frame_block_start,\\\n",
    "                                                                frame_block_end, patient_id, t_block_start,\\\n",
    "                                                                t_block_end)\n"
   ]
  }
 ],
 "metadata": {
  "kernelspec": {
   "display_name": "Python (ClickDetectorEnv)",
   "language": "python",
   "name": "clickdetectorenv"
  },
  "language_info": {
   "codemirror_mode": {
    "name": "ipython",
    "version": 3
   },
   "file_extension": ".py",
   "mimetype": "text/x-python",
   "name": "python",
   "nbconvert_exporter": "python",
   "pygments_lexer": "ipython3",
   "version": "3.9.13"
  }
 },
 "nbformat": 4,
 "nbformat_minor": 5
}
