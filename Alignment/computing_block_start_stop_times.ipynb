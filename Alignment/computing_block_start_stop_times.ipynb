{
 "cells": [
  {
   "cell_type": "markdown",
   "id": "42b0c8f3-1209-4096-aee3-0c1c1970a26a",
   "metadata": {},
   "source": [
    "# SCRIPT DESCRIPTION"
   ]
  },
  {
   "cell_type": "raw",
   "id": "0f58dec7-91fc-45d0-aff4-d9de2b738753",
   "metadata": {},
   "source": [
    "When testing the switch-scanning speller, a video camera was used to capture the participant's movements of his right\n",
    "hand. This is because he would generate clicks by attempting single grasps of his hand and these residual movements\n",
    "were still observable. Thus these were used as ground truth for movement onset. Video of his hand needs to be \n",
    "synchronized to the BCI2000 data that contained neural signals as well as state changes corresponding to clicks.\n",
    "\n",
    "For this, the video of the relevant block was cropped (in Premiere Pro) in such a way as to best approximate the start\n",
    "time of BCI2000. Specifically, the starting point of the video (0 seconds) was the first frame when the System Status\n",
    "of the BCI2000 Operator was \"Running\" (the status in the previous frame was \"Waiting...\"). However, there are likely\n",
    "some spelling blocks that do not start at that time frame and this is likely accidental (they can still be synchronized\n",
    "due to the existance of an auditory cue).\n",
    "\n",
    "Despite this cropping, there may still be an interval of time between when the \"Running\" status appears on BCI2000\n",
    "Operator and when the participant actually starts performing the task. This time may be even 10-20 s long in some\n",
    "cases. Similarly, at the end of the video, there may be a few seconds after the task ends in which the video is still\n",
    "recording. The videos for each spelling block were cropped this way in order to guarantee that all the relevant \n",
    "information was recording, even at the expense of a few seconds at the beginning and the end where the participant may\n",
    "have not have been sitting still and may have been performing miscellaneous movements.\n",
    "\n",
    "In this script, we save fine-tuned information describing the truly relevant starting and ending points of the video. \n",
    "Specifically, we append a .txt file with the starting and ending points in units of seconds and frames that were \n",
    "converted from hh:mm:ss:ff units from Premiere Pro.\n",
    "\n",
    "These starting and ending points are then used in two other scripts (curtailing_video_data.ipynb and xxxx.ipynb) to\n",
    "curtail the video information and BCI2000 information respectively.\n"
   ]
  },
  {
   "cell_type": "markdown",
   "id": "5e1304d6-08e2-41bc-b129-621ab8128453",
   "metadata": {},
   "source": [
    "# IMPORTING LIBRARIES"
   ]
  },
  {
   "cell_type": "code",
   "execution_count": 1,
   "id": "47236846-17d6-4426-a37f-0acbde08efbe",
   "metadata": {},
   "outputs": [],
   "source": [
    "# Please check to ensure that all of the libraries imported in functions_computing_block_start_stop_times.py are installed\n",
    "# in your environment or in the same file pathway. \n",
    "import functions_computing_block_start_stop_times\n",
    "import shutil"
   ]
  },
  {
   "cell_type": "markdown",
   "id": "8a38d9d7-97c6-4723-be1f-48c5a415add2",
   "metadata": {},
   "source": [
    "# SAVING A BACKUP OF THIS SCRIPT"
   ]
  },
  {
   "cell_type": "code",
   "execution_count": 2,
   "id": "59af788e-c2da-49e7-a423-f179ff9a1383",
   "metadata": {},
   "outputs": [],
   "source": [
    "# Creating the original and target file directories.\n",
    "original = r'/home/dan/Projects/PseudoOnlineTests_for_RTCoG/Scripts/Recent/SpellerAnalysis/computing_block_start_stop_times.ipynb'\n",
    "target   = r'/mnt/shared/danprocessing/BACKUP/Projects/PseudoOnlineTests_for_RTCoG/Scripts/SpellerAnalysis/computing_block_start_stop_times.ipynb'\n",
    "\n",
    "# Saving.\n",
    "shutil.copyfile(original, target);"
   ]
  },
  {
   "cell_type": "markdown",
   "id": "9baf8744-dbd9-4d44-8721-2768f2d94da0",
   "metadata": {},
   "source": [
    "# INPUTTING PARAMETERS"
   ]
  },
  {
   "cell_type": "code",
   "execution_count": 3,
   "id": "502ad625-5540-4cb5-b503-39e8b4cdd7bc",
   "metadata": {},
   "outputs": [],
   "source": [
    "\"\"\"\n",
    "DESCRIPTION:\n",
    "Please input the parameters below.\n",
    "\"\"\"\n",
    "\n",
    "# EXPERIMENTER INPUTS\n",
    "block_id          = 'Block3'\n",
    "date              = '2022_11_18'\n",
    "dir_intermediates = '/mnt/shared/danprocessing/Projects/PseudoOnlineTests_for_RTCoG/Intermediates/'\n",
    "fps               = 30\n",
    "patient_id        = 'CC01'\n",
    "\n",
    "\"\"\"\n",
    "INPUT VARIABLES:\n",
    "block_id:          [String (BlockX, where X is an int)]; Block ID of the task that was run.\n",
    "date:              [string (YYYY_MM_DD)]; Date on which the block was run.\n",
    "dir_intermediates: [string]; [string]; Intermediates directory where relevant information is stored.\n",
    "fps:               [int (30 or 60)]; Frames per second of of the video feed. Note that 30 FPS was from Aug 2022 - Jan 2023.\n",
    "patient_id:        [string]; Patient ID PYyyNnn or CCxx format, where y, n, and x are integers.\n",
    "\"\"\";"
   ]
  },
  {
   "cell_type": "markdown",
   "id": "2ea0c815-fbf5-42f9-bf43-a85a57d40f28",
   "metadata": {},
   "source": [
    "# COMPUTING BLOCK START AND STOP TIMES"
   ]
  },
  {
   "cell_type": "code",
   "execution_count": 4,
   "id": "e7643de8-995b-4b1e-a472-06f877fc9e51",
   "metadata": {},
   "outputs": [
    {
     "name": "stdout",
     "output_type": "stream",
     "text": [
      "Total block time (s):  663.866\n"
     ]
    }
   ],
   "source": [
    "\"\"\"\n",
    "DESCRIPTION:\n",
    "Importing the starting an ending points of the video that show only the truly relevant movement information for the\n",
    "experimenter-specified spelling block. By looking at the video recording from that block, these starting and ending times \n",
    "are determined according to when the participant starts and ends making task-related hand movements. The imported \n",
    "starting and ending points are found in the following pathway:\n",
    "\n",
    "dir_intermediates + patient_id + '/Speller/BlocksStartAndStops/' + date + '/' + date + '_' + block_id + '_StartStop.txt'\n",
    "\n",
    "Feel free to modify the pathway in which these starting and ending points are stored and the necessary experimenter\n",
    "inputs appropriately.\n",
    "\n",
    "INPUT VARIABLES:\n",
    "block_id:          [String (BlockX, where X is an int)]; Block ID of the task that was run.\n",
    "date:              [string (YYYY_MM_DD)]; Date on which the current block was run.\n",
    "dir_intermediates: [string]; [string]; Intermediates directory where relevant information is stored.\n",
    "fps:               [int (30 or 60)]; Frames per second of of the video feed. Note that 30 FPS was from Aug 2022 - Jan 2023.\n",
    "patient_id:        [string]; Patient ID PYyyNnn or CCxx format, where y, n, and x are integers.\n",
    "\n",
    "OUTPUT VARIABLES:\n",
    "frame_block_start: [int]; Starting video frame of the task-related activity. \n",
    "frame_block_end:   [int]; Ending video frame of the task-related activity. \n",
    "t_block_start:     [int (units: s)]; Starting time of the task-related activity. \n",
    "t_block_end:       [int (units: s)]; Ending time of the task-related activity. \n",
    "\"\"\"\n",
    "\n",
    "# COMPUTATION:\n",
    "\n",
    "# Extracting the start and end time for the experimenter-specified block.\n",
    "frame_block_start,\\\n",
    "frame_block_end,\\\n",
    "t_block_start,\\\n",
    "t_block_end = functions_computing_block_start_stop_times.extract_start_stop_times_from_txt(block_id, date, dir_intermediates, fps, patient_id)\n"
   ]
  },
  {
   "cell_type": "markdown",
   "id": "faa862dc-0784-4938-b56f-8050bc2f5387",
   "metadata": {},
   "source": [
    "# WRITING TO TEXT FILE"
   ]
  },
  {
   "cell_type": "code",
   "execution_count": 5,
   "id": "84692b95-a89a-4e53-9070-d774f2932c41",
   "metadata": {},
   "outputs": [],
   "source": [
    "\"\"\"\n",
    "DESCRIPTION:\n",
    "Writing the block start and stop times in units of seconds and frames back to the text file. Writing to:\n",
    "\n",
    "dir_intermediates + patient_id + '/Speller/BlocksStartAndStops/' + date + '/' + date + '_' + block_id + '_StartStop.txt'\n",
    "\n",
    "Feel free to modify the pathway in which these starting and ending points are stored and the necessary experimenter\n",
    "inputs appropriately.\n",
    "\n",
    "INPUT VARIABLES:\n",
    "block_id:          [String (BlockX, where X is an int)]; Block ID of the task that was run.\n",
    "date:              [string (YYYY_MM_DD)]; Date on which the current block was run.\n",
    "dir_intermediates: [string]; [string]; Intermediates directory where relevant information is stored.\n",
    "frame_block_start: [int]; Starting video frame of the task-related activity. \n",
    "frame_block_end:   [int]; Ending video frame of the task-related activity. \n",
    "patient_id:        [string]; Patient ID PYyyNnn or CCxx format, where y, n, and x are integers.\n",
    "t_block_start:     [int (units: s)]; Starting time of the task-related activity. \n",
    "t_block_end:       [int (units: s)]; Ending time of the task-related activity. \n",
    "\"\"\"\n",
    "\n",
    "# COMPUTATION:\n",
    "\n",
    "# Writing to text file.\n",
    "functions_computing_block_start_stop_times.writing_to_text_file(block_id, date, dir_intermediates, frame_block_start, frame_block_end, patient_id, t_block_start, t_block_end)\n"
   ]
  },
  {
   "cell_type": "code",
   "execution_count": null,
   "id": "63b5d97d-13af-4b16-9d01-1630004af57a",
   "metadata": {},
   "outputs": [],
   "source": []
  }
 ],
 "metadata": {
  "kernelspec": {
   "display_name": "Python (JupyterEnv)",
   "language": "python",
   "name": "jupyterenv"
  },
  "language_info": {
   "codemirror_mode": {
    "name": "ipython",
    "version": 3
   },
   "file_extension": ".py",
   "mimetype": "text/x-python",
   "name": "python",
   "nbconvert_exporter": "python",
   "pygments_lexer": "ipython3",
   "version": "3.9.13"
  }
 },
 "nbformat": 4,
 "nbformat_minor": 5
}
