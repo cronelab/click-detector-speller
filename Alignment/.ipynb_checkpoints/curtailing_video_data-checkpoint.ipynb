{
 "cells": [
  {
   "cell_type": "markdown",
   "id": "d0295ef9-4174-42d5-99f8-317f21b0a5bc",
   "metadata": {},
   "source": [
    "# SCRIPT DESCRIPTION"
   ]
  },
  {
   "cell_type": "raw",
   "id": "46f7f3d9-5707-4d37-bf6c-fab58f1f3a7e",
   "metadata": {},
   "source": [
    "When testing the switch-scanning speller, a video camera was used to capture the participant's movements of his right\n",
    "hand. This is because he would generate clicks by attempting single grasps of his hand and these residual movements\n",
    "were still observable. Thus these were used as ground truth for movement onset. Video of his hand needs to be \n",
    "synchronized to the BCI2000 data that contained neural signals as well as state changes corresponding to clicks.\n",
    "\n",
    "For this, the video of the relevant block was cropped (in Premiere Pro) in such a way as to best approximate the start\n",
    "time of BCI2000. Specifically, the starting point of the video (0 seconds) was the first frame when the System Status\n",
    "of the BCI2000 Operator was \"Running\" (the status in the previous frame was \"Waiting...\"). However, there are likely\n",
    "some spelling blocks that do not start at that time frame and this is likely accidental (they can still be synchronized\n",
    "due to the existance of an auditory cue).\n",
    "\n",
    "Despite this cropping, there may still be an interval of time between when the \"Running\" status appears on BCI2000\n",
    "Operator and when the participant actually starts performing the task. This time may be even 10-20 s long in some\n",
    "cases. Similarly, at the end of the video, there may be a few seconds after the task ends in which the video is still\n",
    "recording. The videos for each spelling block were cropped this way in order to guarantee that all the relevant \n",
    "information was recording, even at the expense of a few seconds at the beginning and the end where the participant may\n",
    "have not have been sitting still and may have been performing miscellaneous movements.\n",
    "\n",
    "In this script, we load the fine-tuned information describing the truly relevant starting and stopping points of the\n",
    "video. We then curtail the video information (hand trajectories and click detections) according to these starting and\n",
    "ending points. Specifically, we curtail the xarray that contains the hand trajectories and each xarray in the \n",
    "dictionary of click highlights. In another script (curtailing_bci2000_data.ipynb), we curtail the BCI2000 information\n",
    "as well, after applying the correct time lag between the BCI2000 and video recording (refer to \n",
    "computing_audio_time_lag.ipynb).\n"
   ]
  },
  {
   "cell_type": "markdown",
   "id": "313435d2-9fac-414b-87ea-372cb51a1a4f",
   "metadata": {},
   "source": [
    "# IMPORTING LIBRARIES"
   ]
  },
  {
   "cell_type": "code",
   "execution_count": 1,
   "id": "55ba8fc6-28f6-4ee5-8565-017e5bab38f5",
   "metadata": {},
   "outputs": [],
   "source": [
    "# Please check to ensure that all of the libraries imported in functions_curtailing_video_data.py are installed\n",
    "# in your environment or in the same file pathway. \n",
    "import functions_curtailing_video_data\n",
    "import shutil"
   ]
  },
  {
   "cell_type": "markdown",
   "id": "44fe4986-c198-4041-adde-28e3a7a93b4d",
   "metadata": {},
   "source": [
    "# SAVING A BACKUP FOR THIS SCRIPT"
   ]
  },
  {
   "cell_type": "code",
   "execution_count": 2,
   "id": "669d362c-4c26-4849-a7bb-348700d2dee3",
   "metadata": {},
   "outputs": [],
   "source": [
    "# Creating the original and target file directories.\n",
    "original = r'/home/dan/Projects/PseudoOnlineTests_for_RTCoG/Scripts/Recent/SpellerAnalysis/curtailing_video_data.ipynb'\n",
    "target   = r'/mnt/shared/danprocessing/BACKUP/Projects/PseudoOnlineTests_for_RTCoG/Scripts/SpellerAnalysis/curtailing_video_data.ipynb'\n",
    "\n",
    "# Saving.\n",
    "shutil.copyfile(original, target);"
   ]
  },
  {
   "cell_type": "markdown",
   "id": "bfcd2d90-a5fd-4ca0-a02c-8ee3980442ea",
   "metadata": {},
   "source": [
    "# INPUTTING PARAMETERS"
   ]
  },
  {
   "cell_type": "code",
   "execution_count": 3,
   "id": "8c351454-7e25-48ff-880c-6d96909ebda5",
   "metadata": {},
   "outputs": [],
   "source": [
    "\"\"\"\n",
    "DESCRIPTION:\n",
    "Please input the parameters below.\n",
    "\"\"\"\n",
    "\n",
    "# EXPERIMENTER INPUTS:\n",
    "block_id          = 'Block1'\n",
    "date              = '2022_11_17'\n",
    "dir_intermediates = '/mnt/shared/danprocessing/Projects/PseudoOnlineTests_for_RTCoG/Intermediates/'\n",
    "patient_id        = 'CC01'\n",
    "task              = 'Speller' \n",
    "\n",
    "\"\"\"\n",
    "INPUT VARIABLES:\n",
    "block_id:          [String (BlockX, where X is an int))]; Block ID of the task that was run.\n",
    "date:              [string (YYYY_MM_DD)]; Date on which the block was run.\n",
    "dir_intermediates: [string]; Intermediates directory where relevant information is stored.\n",
    "patient_id:        [string]; Patient ID PYyyNnn or CCxx format, where y, n, and x are integers.\n",
    "task:              [string]; Type of task that was run.\n",
    "\"\"\";"
   ]
  },
  {
   "cell_type": "markdown",
   "id": "0ca77251-f26e-4265-a118-dca3b42f5b14",
   "metadata": {},
   "source": [
    "# LOADING MEDIAPIPE HAND LANDMARK TRAJECTORIES"
   ]
  },
  {
   "cell_type": "code",
   "execution_count": 4,
   "id": "e0a88302-e985-43d2-92a7-15dcabc7ce4a",
   "metadata": {},
   "outputs": [
    {
     "ename": "FileNotFoundError",
     "evalue": "[Errno 2] No such file or directory: '/mnt/shared/danprocessing/Projects/PseudoOnlineTests_for_RTCoG/Intermediates/CC01/Speller/HandTrajectories/2022_11_17/Xarrays/2022_11_17_Block1_hand_trajectories.nc'",
     "output_type": "error",
     "traceback": [
      "\u001b[0;31m---------------------------------------------------------------------------\u001b[0m",
      "\u001b[0;31mKeyError\u001b[0m                                  Traceback (most recent call last)",
      "File \u001b[0;32m~/.local/lib/python3.9/site-packages/xarray/backends/file_manager.py:210\u001b[0m, in \u001b[0;36mCachingFileManager._acquire_with_cache_info\u001b[0;34m(self, needs_lock)\u001b[0m\n\u001b[1;32m    209\u001b[0m \u001b[38;5;28;01mtry\u001b[39;00m:\n\u001b[0;32m--> 210\u001b[0m     file \u001b[38;5;241m=\u001b[39m \u001b[38;5;28;43mself\u001b[39;49m\u001b[38;5;241;43m.\u001b[39;49m\u001b[43m_cache\u001b[49m\u001b[43m[\u001b[49m\u001b[38;5;28;43mself\u001b[39;49m\u001b[38;5;241;43m.\u001b[39;49m\u001b[43m_key\u001b[49m\u001b[43m]\u001b[49m\n\u001b[1;32m    211\u001b[0m \u001b[38;5;28;01mexcept\u001b[39;00m \u001b[38;5;167;01mKeyError\u001b[39;00m:\n",
      "File \u001b[0;32m~/.local/lib/python3.9/site-packages/xarray/backends/lru_cache.py:56\u001b[0m, in \u001b[0;36mLRUCache.__getitem__\u001b[0;34m(self, key)\u001b[0m\n\u001b[1;32m     55\u001b[0m \u001b[38;5;28;01mwith\u001b[39;00m \u001b[38;5;28mself\u001b[39m\u001b[38;5;241m.\u001b[39m_lock:\n\u001b[0;32m---> 56\u001b[0m     value \u001b[38;5;241m=\u001b[39m \u001b[38;5;28;43mself\u001b[39;49m\u001b[38;5;241;43m.\u001b[39;49m\u001b[43m_cache\u001b[49m\u001b[43m[\u001b[49m\u001b[43mkey\u001b[49m\u001b[43m]\u001b[49m\n\u001b[1;32m     57\u001b[0m     \u001b[38;5;28mself\u001b[39m\u001b[38;5;241m.\u001b[39m_cache\u001b[38;5;241m.\u001b[39mmove_to_end(key)\n",
      "\u001b[0;31mKeyError\u001b[0m: [<class 'netCDF4._netCDF4.Dataset'>, ('/mnt/shared/danprocessing/Projects/PseudoOnlineTests_for_RTCoG/Intermediates/CC01/Speller/HandTrajectories/2022_11_17/Xarrays/2022_11_17_Block1_hand_trajectories.nc',), 'r', (('clobber', True), ('diskless', False), ('format', 'NETCDF4'), ('persist', False)), '9177c0a0-9229-4634-8be8-9846ce88db55']",
      "\nDuring handling of the above exception, another exception occurred:\n",
      "\u001b[0;31mFileNotFoundError\u001b[0m                         Traceback (most recent call last)",
      "Cell \u001b[0;32mIn [4], line 25\u001b[0m\n\u001b[1;32m      1\u001b[0m \u001b[38;5;124;03m\"\"\"\u001b[39;00m\n\u001b[1;32m      2\u001b[0m \u001b[38;5;124;03mDESCRIPTION:\u001b[39;00m\n\u001b[1;32m      3\u001b[0m \u001b[38;5;124;03mImporting the xarray of hand trajectories. The hand trajectories array is loaded from:\u001b[39;00m\n\u001b[0;32m   (...)\u001b[0m\n\u001b[1;32m     19\u001b[0m \u001b[38;5;124;03m                   for each landmark. The time domain is in units of seconds. \u001b[39;00m\n\u001b[1;32m     20\u001b[0m \u001b[38;5;124;03m\"\"\"\u001b[39;00m\n\u001b[1;32m     22\u001b[0m \u001b[38;5;66;03m# COMPUTATION:\u001b[39;00m\n\u001b[1;32m     23\u001b[0m \n\u001b[1;32m     24\u001b[0m \u001b[38;5;66;03m# Loading the hand trajectories.\u001b[39;00m\n\u001b[0;32m---> 25\u001b[0m hand_trajectories \u001b[38;5;241m=\u001b[39m \u001b[43mfunctions_curtailing_video_data\u001b[49m\u001b[38;5;241;43m.\u001b[39;49m\u001b[43mload_hand_trajectories\u001b[49m\u001b[43m(\u001b[49m\u001b[43mblock_id\u001b[49m\u001b[43m,\u001b[49m\u001b[43m \u001b[49m\u001b[43mdate\u001b[49m\u001b[43m,\u001b[49m\u001b[43m \u001b[49m\u001b[43mdir_intermediates\u001b[49m\u001b[43m,\u001b[49m\u001b[43m \u001b[49m\u001b[43mpatient_id\u001b[49m\u001b[43m,\u001b[49m\u001b[43m \u001b[49m\u001b[43mtask\u001b[49m\u001b[43m)\u001b[49m\n",
      "File \u001b[0;32m~/Projects/PseudoOnlineTests_for_RTCoG/Scripts/Recent/SpellerAnalysis/functions_curtailing_video_data.py:235\u001b[0m, in \u001b[0;36mload_hand_trajectories\u001b[0;34m(block_id, date, dir_intermediates, patient_id, task)\u001b[0m\n\u001b[1;32m    232\u001b[0m path_handtrajectories \u001b[38;5;241m=\u001b[39m dir_handtrajectories \u001b[38;5;241m+\u001b[39m filename_handtrajectories\n\u001b[1;32m    234\u001b[0m \u001b[38;5;66;03m# Loading the xarray with the hand trajectories.\u001b[39;00m\n\u001b[0;32m--> 235\u001b[0m hand_trajectories \u001b[38;5;241m=\u001b[39m \u001b[43mxr\u001b[49m\u001b[38;5;241;43m.\u001b[39;49m\u001b[43mopen_dataarray\u001b[49m\u001b[43m(\u001b[49m\u001b[43mpath_handtrajectories\u001b[49m\u001b[43m)\u001b[49m\n\u001b[1;32m    236\u001b[0m hand_trajectories\u001b[38;5;241m.\u001b[39mload()\n\u001b[1;32m    238\u001b[0m \u001b[38;5;66;03m# PRINTING\u001b[39;00m\n",
      "File \u001b[0;32m~/.local/lib/python3.9/site-packages/xarray/backends/api.py:686\u001b[0m, in \u001b[0;36mopen_dataarray\u001b[0;34m(filename_or_obj, engine, chunks, cache, decode_cf, mask_and_scale, decode_times, decode_timedelta, use_cftime, concat_characters, decode_coords, drop_variables, inline_array, backend_kwargs, **kwargs)\u001b[0m\n\u001b[1;32m    546\u001b[0m \u001b[38;5;28;01mdef\u001b[39;00m \u001b[38;5;21mopen_dataarray\u001b[39m(\n\u001b[1;32m    547\u001b[0m     filename_or_obj: \u001b[38;5;28mstr\u001b[39m \u001b[38;5;241m|\u001b[39m os\u001b[38;5;241m.\u001b[39mPathLike[Any] \u001b[38;5;241m|\u001b[39m BufferedIOBase \u001b[38;5;241m|\u001b[39m AbstractDataStore,\n\u001b[1;32m    548\u001b[0m     \u001b[38;5;241m*\u001b[39m,\n\u001b[0;32m   (...)\u001b[0m\n\u001b[1;32m    562\u001b[0m     \u001b[38;5;241m*\u001b[39m\u001b[38;5;241m*\u001b[39mkwargs,\n\u001b[1;32m    563\u001b[0m ) \u001b[38;5;241m-\u001b[39m\u001b[38;5;241m>\u001b[39m DataArray:\n\u001b[1;32m    564\u001b[0m     \u001b[38;5;124;03m\"\"\"Open an DataArray from a file or file-like object containing a single\u001b[39;00m\n\u001b[1;32m    565\u001b[0m \u001b[38;5;124;03m    data variable.\u001b[39;00m\n\u001b[1;32m    566\u001b[0m \n\u001b[0;32m   (...)\u001b[0m\n\u001b[1;32m    683\u001b[0m \u001b[38;5;124;03m    open_dataset\u001b[39;00m\n\u001b[1;32m    684\u001b[0m \u001b[38;5;124;03m    \"\"\"\u001b[39;00m\n\u001b[0;32m--> 686\u001b[0m     dataset \u001b[38;5;241m=\u001b[39m \u001b[43mopen_dataset\u001b[49m\u001b[43m(\u001b[49m\n\u001b[1;32m    687\u001b[0m \u001b[43m        \u001b[49m\u001b[43mfilename_or_obj\u001b[49m\u001b[43m,\u001b[49m\n\u001b[1;32m    688\u001b[0m \u001b[43m        \u001b[49m\u001b[43mdecode_cf\u001b[49m\u001b[38;5;241;43m=\u001b[39;49m\u001b[43mdecode_cf\u001b[49m\u001b[43m,\u001b[49m\n\u001b[1;32m    689\u001b[0m \u001b[43m        \u001b[49m\u001b[43mmask_and_scale\u001b[49m\u001b[38;5;241;43m=\u001b[39;49m\u001b[43mmask_and_scale\u001b[49m\u001b[43m,\u001b[49m\n\u001b[1;32m    690\u001b[0m \u001b[43m        \u001b[49m\u001b[43mdecode_times\u001b[49m\u001b[38;5;241;43m=\u001b[39;49m\u001b[43mdecode_times\u001b[49m\u001b[43m,\u001b[49m\n\u001b[1;32m    691\u001b[0m \u001b[43m        \u001b[49m\u001b[43mconcat_characters\u001b[49m\u001b[38;5;241;43m=\u001b[39;49m\u001b[43mconcat_characters\u001b[49m\u001b[43m,\u001b[49m\n\u001b[1;32m    692\u001b[0m \u001b[43m        \u001b[49m\u001b[43mdecode_coords\u001b[49m\u001b[38;5;241;43m=\u001b[39;49m\u001b[43mdecode_coords\u001b[49m\u001b[43m,\u001b[49m\n\u001b[1;32m    693\u001b[0m \u001b[43m        \u001b[49m\u001b[43mengine\u001b[49m\u001b[38;5;241;43m=\u001b[39;49m\u001b[43mengine\u001b[49m\u001b[43m,\u001b[49m\n\u001b[1;32m    694\u001b[0m \u001b[43m        \u001b[49m\u001b[43mchunks\u001b[49m\u001b[38;5;241;43m=\u001b[39;49m\u001b[43mchunks\u001b[49m\u001b[43m,\u001b[49m\n\u001b[1;32m    695\u001b[0m \u001b[43m        \u001b[49m\u001b[43mcache\u001b[49m\u001b[38;5;241;43m=\u001b[39;49m\u001b[43mcache\u001b[49m\u001b[43m,\u001b[49m\n\u001b[1;32m    696\u001b[0m \u001b[43m        \u001b[49m\u001b[43mdrop_variables\u001b[49m\u001b[38;5;241;43m=\u001b[39;49m\u001b[43mdrop_variables\u001b[49m\u001b[43m,\u001b[49m\n\u001b[1;32m    697\u001b[0m \u001b[43m        \u001b[49m\u001b[43minline_array\u001b[49m\u001b[38;5;241;43m=\u001b[39;49m\u001b[43minline_array\u001b[49m\u001b[43m,\u001b[49m\n\u001b[1;32m    698\u001b[0m \u001b[43m        \u001b[49m\u001b[43mbackend_kwargs\u001b[49m\u001b[38;5;241;43m=\u001b[39;49m\u001b[43mbackend_kwargs\u001b[49m\u001b[43m,\u001b[49m\n\u001b[1;32m    699\u001b[0m \u001b[43m        \u001b[49m\u001b[43muse_cftime\u001b[49m\u001b[38;5;241;43m=\u001b[39;49m\u001b[43muse_cftime\u001b[49m\u001b[43m,\u001b[49m\n\u001b[1;32m    700\u001b[0m \u001b[43m        \u001b[49m\u001b[43mdecode_timedelta\u001b[49m\u001b[38;5;241;43m=\u001b[39;49m\u001b[43mdecode_timedelta\u001b[49m\u001b[43m,\u001b[49m\n\u001b[1;32m    701\u001b[0m \u001b[43m        \u001b[49m\u001b[38;5;241;43m*\u001b[39;49m\u001b[38;5;241;43m*\u001b[39;49m\u001b[43mkwargs\u001b[49m\u001b[43m,\u001b[49m\n\u001b[1;32m    702\u001b[0m \u001b[43m    \u001b[49m\u001b[43m)\u001b[49m\n\u001b[1;32m    704\u001b[0m     \u001b[38;5;28;01mif\u001b[39;00m \u001b[38;5;28mlen\u001b[39m(dataset\u001b[38;5;241m.\u001b[39mdata_vars) \u001b[38;5;241m!=\u001b[39m \u001b[38;5;241m1\u001b[39m:\n\u001b[1;32m    705\u001b[0m         \u001b[38;5;28;01mraise\u001b[39;00m \u001b[38;5;167;01mValueError\u001b[39;00m(\n\u001b[1;32m    706\u001b[0m             \u001b[38;5;124m\"\u001b[39m\u001b[38;5;124mGiven file dataset contains more than one data \u001b[39m\u001b[38;5;124m\"\u001b[39m\n\u001b[1;32m    707\u001b[0m             \u001b[38;5;124m\"\u001b[39m\u001b[38;5;124mvariable. Please read with xarray.open_dataset and \u001b[39m\u001b[38;5;124m\"\u001b[39m\n\u001b[1;32m    708\u001b[0m             \u001b[38;5;124m\"\u001b[39m\u001b[38;5;124mthen select the variable you want.\u001b[39m\u001b[38;5;124m\"\u001b[39m\n\u001b[1;32m    709\u001b[0m         )\n",
      "File \u001b[0;32m~/.local/lib/python3.9/site-packages/xarray/backends/api.py:525\u001b[0m, in \u001b[0;36mopen_dataset\u001b[0;34m(filename_or_obj, engine, chunks, cache, decode_cf, mask_and_scale, decode_times, decode_timedelta, use_cftime, concat_characters, decode_coords, drop_variables, inline_array, backend_kwargs, **kwargs)\u001b[0m\n\u001b[1;32m    513\u001b[0m decoders \u001b[38;5;241m=\u001b[39m _resolve_decoders_kwargs(\n\u001b[1;32m    514\u001b[0m     decode_cf,\n\u001b[1;32m    515\u001b[0m     open_backend_dataset_parameters\u001b[38;5;241m=\u001b[39mbackend\u001b[38;5;241m.\u001b[39mopen_dataset_parameters,\n\u001b[0;32m   (...)\u001b[0m\n\u001b[1;32m    521\u001b[0m     decode_coords\u001b[38;5;241m=\u001b[39mdecode_coords,\n\u001b[1;32m    522\u001b[0m )\n\u001b[1;32m    524\u001b[0m overwrite_encoded_chunks \u001b[38;5;241m=\u001b[39m kwargs\u001b[38;5;241m.\u001b[39mpop(\u001b[38;5;124m\"\u001b[39m\u001b[38;5;124moverwrite_encoded_chunks\u001b[39m\u001b[38;5;124m\"\u001b[39m, \u001b[38;5;28;01mNone\u001b[39;00m)\n\u001b[0;32m--> 525\u001b[0m backend_ds \u001b[38;5;241m=\u001b[39m \u001b[43mbackend\u001b[49m\u001b[38;5;241;43m.\u001b[39;49m\u001b[43mopen_dataset\u001b[49m\u001b[43m(\u001b[49m\n\u001b[1;32m    526\u001b[0m \u001b[43m    \u001b[49m\u001b[43mfilename_or_obj\u001b[49m\u001b[43m,\u001b[49m\n\u001b[1;32m    527\u001b[0m \u001b[43m    \u001b[49m\u001b[43mdrop_variables\u001b[49m\u001b[38;5;241;43m=\u001b[39;49m\u001b[43mdrop_variables\u001b[49m\u001b[43m,\u001b[49m\n\u001b[1;32m    528\u001b[0m \u001b[43m    \u001b[49m\u001b[38;5;241;43m*\u001b[39;49m\u001b[38;5;241;43m*\u001b[39;49m\u001b[43mdecoders\u001b[49m\u001b[43m,\u001b[49m\n\u001b[1;32m    529\u001b[0m \u001b[43m    \u001b[49m\u001b[38;5;241;43m*\u001b[39;49m\u001b[38;5;241;43m*\u001b[39;49m\u001b[43mkwargs\u001b[49m\u001b[43m,\u001b[49m\n\u001b[1;32m    530\u001b[0m \u001b[43m\u001b[49m\u001b[43m)\u001b[49m\n\u001b[1;32m    531\u001b[0m ds \u001b[38;5;241m=\u001b[39m _dataset_from_backend_dataset(\n\u001b[1;32m    532\u001b[0m     backend_ds,\n\u001b[1;32m    533\u001b[0m     filename_or_obj,\n\u001b[0;32m   (...)\u001b[0m\n\u001b[1;32m    541\u001b[0m     \u001b[38;5;241m*\u001b[39m\u001b[38;5;241m*\u001b[39mkwargs,\n\u001b[1;32m    542\u001b[0m )\n\u001b[1;32m    543\u001b[0m \u001b[38;5;28;01mreturn\u001b[39;00m ds\n",
      "File \u001b[0;32m~/.local/lib/python3.9/site-packages/xarray/backends/netCDF4_.py:588\u001b[0m, in \u001b[0;36mNetCDF4BackendEntrypoint.open_dataset\u001b[0;34m(self, filename_or_obj, mask_and_scale, decode_times, concat_characters, decode_coords, drop_variables, use_cftime, decode_timedelta, group, mode, format, clobber, diskless, persist, lock, autoclose)\u001b[0m\n\u001b[1;32m    567\u001b[0m \u001b[38;5;28;01mdef\u001b[39;00m \u001b[38;5;21mopen_dataset\u001b[39m(  \u001b[38;5;66;03m# type: ignore[override]  # allow LSP violation, not supporting **kwargs\u001b[39;00m\n\u001b[1;32m    568\u001b[0m     \u001b[38;5;28mself\u001b[39m,\n\u001b[1;32m    569\u001b[0m     filename_or_obj: \u001b[38;5;28mstr\u001b[39m \u001b[38;5;241m|\u001b[39m os\u001b[38;5;241m.\u001b[39mPathLike[Any] \u001b[38;5;241m|\u001b[39m BufferedIOBase \u001b[38;5;241m|\u001b[39m AbstractDataStore,\n\u001b[0;32m   (...)\u001b[0m\n\u001b[1;32m    585\u001b[0m     autoclose\u001b[38;5;241m=\u001b[39m\u001b[38;5;28;01mFalse\u001b[39;00m,\n\u001b[1;32m    586\u001b[0m ) \u001b[38;5;241m-\u001b[39m\u001b[38;5;241m>\u001b[39m Dataset:\n\u001b[1;32m    587\u001b[0m     filename_or_obj \u001b[38;5;241m=\u001b[39m _normalize_path(filename_or_obj)\n\u001b[0;32m--> 588\u001b[0m     store \u001b[38;5;241m=\u001b[39m \u001b[43mNetCDF4DataStore\u001b[49m\u001b[38;5;241;43m.\u001b[39;49m\u001b[43mopen\u001b[49m\u001b[43m(\u001b[49m\n\u001b[1;32m    589\u001b[0m \u001b[43m        \u001b[49m\u001b[43mfilename_or_obj\u001b[49m\u001b[43m,\u001b[49m\n\u001b[1;32m    590\u001b[0m \u001b[43m        \u001b[49m\u001b[43mmode\u001b[49m\u001b[38;5;241;43m=\u001b[39;49m\u001b[43mmode\u001b[49m\u001b[43m,\u001b[49m\n\u001b[1;32m    591\u001b[0m \u001b[43m        \u001b[49m\u001b[38;5;28;43mformat\u001b[39;49m\u001b[38;5;241;43m=\u001b[39;49m\u001b[38;5;28;43mformat\u001b[39;49m\u001b[43m,\u001b[49m\n\u001b[1;32m    592\u001b[0m \u001b[43m        \u001b[49m\u001b[43mgroup\u001b[49m\u001b[38;5;241;43m=\u001b[39;49m\u001b[43mgroup\u001b[49m\u001b[43m,\u001b[49m\n\u001b[1;32m    593\u001b[0m \u001b[43m        \u001b[49m\u001b[43mclobber\u001b[49m\u001b[38;5;241;43m=\u001b[39;49m\u001b[43mclobber\u001b[49m\u001b[43m,\u001b[49m\n\u001b[1;32m    594\u001b[0m \u001b[43m        \u001b[49m\u001b[43mdiskless\u001b[49m\u001b[38;5;241;43m=\u001b[39;49m\u001b[43mdiskless\u001b[49m\u001b[43m,\u001b[49m\n\u001b[1;32m    595\u001b[0m \u001b[43m        \u001b[49m\u001b[43mpersist\u001b[49m\u001b[38;5;241;43m=\u001b[39;49m\u001b[43mpersist\u001b[49m\u001b[43m,\u001b[49m\n\u001b[1;32m    596\u001b[0m \u001b[43m        \u001b[49m\u001b[43mlock\u001b[49m\u001b[38;5;241;43m=\u001b[39;49m\u001b[43mlock\u001b[49m\u001b[43m,\u001b[49m\n\u001b[1;32m    597\u001b[0m \u001b[43m        \u001b[49m\u001b[43mautoclose\u001b[49m\u001b[38;5;241;43m=\u001b[39;49m\u001b[43mautoclose\u001b[49m\u001b[43m,\u001b[49m\n\u001b[1;32m    598\u001b[0m \u001b[43m    \u001b[49m\u001b[43m)\u001b[49m\n\u001b[1;32m    600\u001b[0m     store_entrypoint \u001b[38;5;241m=\u001b[39m StoreBackendEntrypoint()\n\u001b[1;32m    601\u001b[0m     \u001b[38;5;28;01mwith\u001b[39;00m close_on_error(store):\n",
      "File \u001b[0;32m~/.local/lib/python3.9/site-packages/xarray/backends/netCDF4_.py:389\u001b[0m, in \u001b[0;36mNetCDF4DataStore.open\u001b[0;34m(cls, filename, mode, format, group, clobber, diskless, persist, lock, lock_maker, autoclose)\u001b[0m\n\u001b[1;32m    383\u001b[0m kwargs \u001b[38;5;241m=\u001b[39m \u001b[38;5;28mdict\u001b[39m(\n\u001b[1;32m    384\u001b[0m     clobber\u001b[38;5;241m=\u001b[39mclobber, diskless\u001b[38;5;241m=\u001b[39mdiskless, persist\u001b[38;5;241m=\u001b[39mpersist, \u001b[38;5;28mformat\u001b[39m\u001b[38;5;241m=\u001b[39m\u001b[38;5;28mformat\u001b[39m\n\u001b[1;32m    385\u001b[0m )\n\u001b[1;32m    386\u001b[0m manager \u001b[38;5;241m=\u001b[39m CachingFileManager(\n\u001b[1;32m    387\u001b[0m     netCDF4\u001b[38;5;241m.\u001b[39mDataset, filename, mode\u001b[38;5;241m=\u001b[39mmode, kwargs\u001b[38;5;241m=\u001b[39mkwargs\n\u001b[1;32m    388\u001b[0m )\n\u001b[0;32m--> 389\u001b[0m \u001b[38;5;28;01mreturn\u001b[39;00m \u001b[38;5;28;43mcls\u001b[39;49m\u001b[43m(\u001b[49m\u001b[43mmanager\u001b[49m\u001b[43m,\u001b[49m\u001b[43m \u001b[49m\u001b[43mgroup\u001b[49m\u001b[38;5;241;43m=\u001b[39;49m\u001b[43mgroup\u001b[49m\u001b[43m,\u001b[49m\u001b[43m \u001b[49m\u001b[43mmode\u001b[49m\u001b[38;5;241;43m=\u001b[39;49m\u001b[43mmode\u001b[49m\u001b[43m,\u001b[49m\u001b[43m \u001b[49m\u001b[43mlock\u001b[49m\u001b[38;5;241;43m=\u001b[39;49m\u001b[43mlock\u001b[49m\u001b[43m,\u001b[49m\u001b[43m \u001b[49m\u001b[43mautoclose\u001b[49m\u001b[38;5;241;43m=\u001b[39;49m\u001b[43mautoclose\u001b[49m\u001b[43m)\u001b[49m\n",
      "File \u001b[0;32m~/.local/lib/python3.9/site-packages/xarray/backends/netCDF4_.py:336\u001b[0m, in \u001b[0;36mNetCDF4DataStore.__init__\u001b[0;34m(self, manager, group, mode, lock, autoclose)\u001b[0m\n\u001b[1;32m    334\u001b[0m \u001b[38;5;28mself\u001b[39m\u001b[38;5;241m.\u001b[39m_group \u001b[38;5;241m=\u001b[39m group\n\u001b[1;32m    335\u001b[0m \u001b[38;5;28mself\u001b[39m\u001b[38;5;241m.\u001b[39m_mode \u001b[38;5;241m=\u001b[39m mode\n\u001b[0;32m--> 336\u001b[0m \u001b[38;5;28mself\u001b[39m\u001b[38;5;241m.\u001b[39mformat \u001b[38;5;241m=\u001b[39m \u001b[38;5;28;43mself\u001b[39;49m\u001b[38;5;241;43m.\u001b[39;49m\u001b[43mds\u001b[49m\u001b[38;5;241m.\u001b[39mdata_model\n\u001b[1;32m    337\u001b[0m \u001b[38;5;28mself\u001b[39m\u001b[38;5;241m.\u001b[39m_filename \u001b[38;5;241m=\u001b[39m \u001b[38;5;28mself\u001b[39m\u001b[38;5;241m.\u001b[39mds\u001b[38;5;241m.\u001b[39mfilepath()\n\u001b[1;32m    338\u001b[0m \u001b[38;5;28mself\u001b[39m\u001b[38;5;241m.\u001b[39mis_remote \u001b[38;5;241m=\u001b[39m is_remote_uri(\u001b[38;5;28mself\u001b[39m\u001b[38;5;241m.\u001b[39m_filename)\n",
      "File \u001b[0;32m~/.local/lib/python3.9/site-packages/xarray/backends/netCDF4_.py:398\u001b[0m, in \u001b[0;36mNetCDF4DataStore.ds\u001b[0;34m(self)\u001b[0m\n\u001b[1;32m    396\u001b[0m \u001b[38;5;129m@property\u001b[39m\n\u001b[1;32m    397\u001b[0m \u001b[38;5;28;01mdef\u001b[39;00m \u001b[38;5;21mds\u001b[39m(\u001b[38;5;28mself\u001b[39m):\n\u001b[0;32m--> 398\u001b[0m     \u001b[38;5;28;01mreturn\u001b[39;00m \u001b[38;5;28;43mself\u001b[39;49m\u001b[38;5;241;43m.\u001b[39;49m\u001b[43m_acquire\u001b[49m\u001b[43m(\u001b[49m\u001b[43m)\u001b[49m\n",
      "File \u001b[0;32m~/.local/lib/python3.9/site-packages/xarray/backends/netCDF4_.py:392\u001b[0m, in \u001b[0;36mNetCDF4DataStore._acquire\u001b[0;34m(self, needs_lock)\u001b[0m\n\u001b[1;32m    391\u001b[0m \u001b[38;5;28;01mdef\u001b[39;00m \u001b[38;5;21m_acquire\u001b[39m(\u001b[38;5;28mself\u001b[39m, needs_lock\u001b[38;5;241m=\u001b[39m\u001b[38;5;28;01mTrue\u001b[39;00m):\n\u001b[0;32m--> 392\u001b[0m     \u001b[38;5;28;01mwith\u001b[39;00m \u001b[38;5;28mself\u001b[39m\u001b[38;5;241m.\u001b[39m_manager\u001b[38;5;241m.\u001b[39macquire_context(needs_lock) \u001b[38;5;28;01mas\u001b[39;00m root:\n\u001b[1;32m    393\u001b[0m         ds \u001b[38;5;241m=\u001b[39m _nc4_require_group(root, \u001b[38;5;28mself\u001b[39m\u001b[38;5;241m.\u001b[39m_group, \u001b[38;5;28mself\u001b[39m\u001b[38;5;241m.\u001b[39m_mode)\n\u001b[1;32m    394\u001b[0m     \u001b[38;5;28;01mreturn\u001b[39;00m ds\n",
      "File \u001b[0;32m/mnt/shared/archive/home/dan/anaconda3/envs/JupyterEnv/lib/python3.9/contextlib.py:119\u001b[0m, in \u001b[0;36m_GeneratorContextManager.__enter__\u001b[0;34m(self)\u001b[0m\n\u001b[1;32m    117\u001b[0m \u001b[38;5;28;01mdel\u001b[39;00m \u001b[38;5;28mself\u001b[39m\u001b[38;5;241m.\u001b[39margs, \u001b[38;5;28mself\u001b[39m\u001b[38;5;241m.\u001b[39mkwds, \u001b[38;5;28mself\u001b[39m\u001b[38;5;241m.\u001b[39mfunc\n\u001b[1;32m    118\u001b[0m \u001b[38;5;28;01mtry\u001b[39;00m:\n\u001b[0;32m--> 119\u001b[0m     \u001b[38;5;28;01mreturn\u001b[39;00m \u001b[38;5;28;43mnext\u001b[39;49m\u001b[43m(\u001b[49m\u001b[38;5;28;43mself\u001b[39;49m\u001b[38;5;241;43m.\u001b[39;49m\u001b[43mgen\u001b[49m\u001b[43m)\u001b[49m\n\u001b[1;32m    120\u001b[0m \u001b[38;5;28;01mexcept\u001b[39;00m \u001b[38;5;167;01mStopIteration\u001b[39;00m:\n\u001b[1;32m    121\u001b[0m     \u001b[38;5;28;01mraise\u001b[39;00m \u001b[38;5;167;01mRuntimeError\u001b[39;00m(\u001b[38;5;124m\"\u001b[39m\u001b[38;5;124mgenerator didn\u001b[39m\u001b[38;5;124m'\u001b[39m\u001b[38;5;124mt yield\u001b[39m\u001b[38;5;124m\"\u001b[39m) \u001b[38;5;28;01mfrom\u001b[39;00m \u001b[38;5;28mNone\u001b[39m\n",
      "File \u001b[0;32m~/.local/lib/python3.9/site-packages/xarray/backends/file_manager.py:198\u001b[0m, in \u001b[0;36mCachingFileManager.acquire_context\u001b[0;34m(self, needs_lock)\u001b[0m\n\u001b[1;32m    195\u001b[0m \u001b[38;5;129m@contextlib\u001b[39m\u001b[38;5;241m.\u001b[39mcontextmanager\n\u001b[1;32m    196\u001b[0m \u001b[38;5;28;01mdef\u001b[39;00m \u001b[38;5;21macquire_context\u001b[39m(\u001b[38;5;28mself\u001b[39m, needs_lock\u001b[38;5;241m=\u001b[39m\u001b[38;5;28;01mTrue\u001b[39;00m):\n\u001b[1;32m    197\u001b[0m     \u001b[38;5;124;03m\"\"\"Context manager for acquiring a file.\"\"\"\u001b[39;00m\n\u001b[0;32m--> 198\u001b[0m     file, cached \u001b[38;5;241m=\u001b[39m \u001b[38;5;28;43mself\u001b[39;49m\u001b[38;5;241;43m.\u001b[39;49m\u001b[43m_acquire_with_cache_info\u001b[49m\u001b[43m(\u001b[49m\u001b[43mneeds_lock\u001b[49m\u001b[43m)\u001b[49m\n\u001b[1;32m    199\u001b[0m     \u001b[38;5;28;01mtry\u001b[39;00m:\n\u001b[1;32m    200\u001b[0m         \u001b[38;5;28;01myield\u001b[39;00m file\n",
      "File \u001b[0;32m~/.local/lib/python3.9/site-packages/xarray/backends/file_manager.py:216\u001b[0m, in \u001b[0;36mCachingFileManager._acquire_with_cache_info\u001b[0;34m(self, needs_lock)\u001b[0m\n\u001b[1;32m    214\u001b[0m     kwargs \u001b[38;5;241m=\u001b[39m kwargs\u001b[38;5;241m.\u001b[39mcopy()\n\u001b[1;32m    215\u001b[0m     kwargs[\u001b[38;5;124m\"\u001b[39m\u001b[38;5;124mmode\u001b[39m\u001b[38;5;124m\"\u001b[39m] \u001b[38;5;241m=\u001b[39m \u001b[38;5;28mself\u001b[39m\u001b[38;5;241m.\u001b[39m_mode\n\u001b[0;32m--> 216\u001b[0m file \u001b[38;5;241m=\u001b[39m \u001b[38;5;28;43mself\u001b[39;49m\u001b[38;5;241;43m.\u001b[39;49m\u001b[43m_opener\u001b[49m\u001b[43m(\u001b[49m\u001b[38;5;241;43m*\u001b[39;49m\u001b[38;5;28;43mself\u001b[39;49m\u001b[38;5;241;43m.\u001b[39;49m\u001b[43m_args\u001b[49m\u001b[43m,\u001b[49m\u001b[43m \u001b[49m\u001b[38;5;241;43m*\u001b[39;49m\u001b[38;5;241;43m*\u001b[39;49m\u001b[43mkwargs\u001b[49m\u001b[43m)\u001b[49m\n\u001b[1;32m    217\u001b[0m \u001b[38;5;28;01mif\u001b[39;00m \u001b[38;5;28mself\u001b[39m\u001b[38;5;241m.\u001b[39m_mode \u001b[38;5;241m==\u001b[39m \u001b[38;5;124m\"\u001b[39m\u001b[38;5;124mw\u001b[39m\u001b[38;5;124m\"\u001b[39m:\n\u001b[1;32m    218\u001b[0m     \u001b[38;5;66;03m# ensure file doesn't get overridden when opened again\u001b[39;00m\n\u001b[1;32m    219\u001b[0m     \u001b[38;5;28mself\u001b[39m\u001b[38;5;241m.\u001b[39m_mode \u001b[38;5;241m=\u001b[39m \u001b[38;5;124m\"\u001b[39m\u001b[38;5;124ma\u001b[39m\u001b[38;5;124m\"\u001b[39m\n",
      "File \u001b[0;32msrc/netCDF4/_netCDF4.pyx:2469\u001b[0m, in \u001b[0;36mnetCDF4._netCDF4.Dataset.__init__\u001b[0;34m()\u001b[0m\n",
      "File \u001b[0;32msrc/netCDF4/_netCDF4.pyx:2028\u001b[0m, in \u001b[0;36mnetCDF4._netCDF4._ensure_nc_success\u001b[0;34m()\u001b[0m\n",
      "\u001b[0;31mFileNotFoundError\u001b[0m: [Errno 2] No such file or directory: '/mnt/shared/danprocessing/Projects/PseudoOnlineTests_for_RTCoG/Intermediates/CC01/Speller/HandTrajectories/2022_11_17/Xarrays/2022_11_17_Block1_hand_trajectories.nc'"
     ]
    }
   ],
   "source": [
    "\"\"\"\n",
    "DESCRIPTION:\n",
    "Importing the xarray of hand trajectories. The hand trajectories array is loaded from:\n",
    "\n",
    "dir_intermediates + patient_id + '/' + task + '/HandTrajectories/'  + date + '/Xarrays/ + 'date + '_' + block_id + '_hand_trajectories.nc'\n",
    "\n",
    "Feel free to modify the pathway in which these starting and ending points are stored and the necessary experimenter\n",
    "inputs appropriately.\n",
    "\n",
    "INPUT VARIABLES:\n",
    "block_id:          [String (BlockX, where X is an int))]; Block ID of the task that was run.\n",
    "date:              [string (YYYY_MM_DD)]; Date on which the block was run.\n",
    "dir_intermediates: [string]; Intermediates directory where relevant information is stored.\n",
    "patient_id:        [string]; Patient ID PYyyNnn or CCxx format, where y, n, and x are integers.\n",
    "task:              [string]; Type of task that was run.\n",
    "\n",
    "OUTPUT VARIABLES:\n",
    "hand_trajectories: [xarray (landmarks x time samples) > floats]; The time traces of the x- and y-coordinates \n",
    "                   for each landmark. The time domain is in units of seconds. \n",
    "\"\"\"\n",
    "\n",
    "# COMPUTATION:\n",
    "\n",
    "# Loading the hand trajectories.\n",
    "hand_trajectories = functions_curtailing_video_data.load_hand_trajectories(block_id, date, dir_intermediates, patient_id, task)\n"
   ]
  },
  {
   "cell_type": "markdown",
   "id": "3d54844b-2b79-49dd-a589-07fff34c26e4",
   "metadata": {},
   "source": [
    "# LOADING CLICK INFORMATION"
   ]
  },
  {
   "cell_type": "code",
   "execution_count": null,
   "id": "6044d178-04a0-4e5e-9f56-0267a1ebcfbf",
   "metadata": {},
   "outputs": [],
   "source": [
    "\"\"\"\n",
    "DESCRIPTION:\n",
    "Loading the click information dictionary. The click array is loaded from:\n",
    "\n",
    "dir_intermediates + patient_id + '/' + task + '/ClickDetections/'  + date + '/Xarrays/' + date + '_' + block_id + '_click_highlights'\n",
    "\n",
    "Feel free to modify the pathway in which these starting and ending points are stored and the necessary experimenter\n",
    "inputs appropriately.\n",
    "\n",
    "INPUT VARIABLES:\n",
    "block_id:          [String (BlockX, where X is an int))]; Block ID of the task that was run.\n",
    "date:              [string (YYYY_MM_DD)]; Date on which the block was run.\n",
    "dir_intermediates: [string]; Intermediates directory where relevant information is stored.\n",
    "patient_id:        [string]; Patient ID PYyyNnn or CCxx format, where y, n, and x are integers.\n",
    "task:              [string]; Type of task that was run.\n",
    "\n",
    "OUTPUT VARIABLES:\n",
    "click_info: [dict (key: string ('backspace','keyboard','stimcolumn'); Value: xarray (1 x time samples) > strings)]; For each \n",
    "            time sample of the array of each key there is a 'no_click' or a string specific to that array. For example, the\n",
    "            'backspace' key of the dictionary has an array where each element is a string named either 'no_click' or \n",
    "            'backspace_click'. The 'backspace_click' elements do not occur consecutively and describe the instance a \n",
    "            click on the backspace key occured. For the 'keyboard' and 'stimcolumn' keys, similar rules apply. Time dimension\n",
    "            is in units of s.\n",
    "\"\"\"\n",
    "\n",
    "# COMPUTATION:\n",
    "\n",
    "# Loading the click information.\n",
    "click_info = functions_curtailing_video_data.load_click_information(block_id, date, dir_intermediates, patient_id, task)\n"
   ]
  },
  {
   "cell_type": "markdown",
   "id": "0aa737f8-b5b2-4cf0-a7b8-74d98b0bb8fe",
   "metadata": {},
   "source": [
    "# PLOTTING UPPER-LIMB TRAJECTORIES AND CLICK ACTIVITY FROM PARTICIPANT'S MONITOR"
   ]
  },
  {
   "cell_type": "code",
   "execution_count": null,
   "id": "a264cf8d-348a-40b2-8066-a9760aa5a4d5",
   "metadata": {},
   "outputs": [],
   "source": [
    "\"\"\"\n",
    "DESCRIPTION:\n",
    "The experimenter can choose to display whichever set of the above-displayed hand landmarks and inputs these into the \n",
    "landmark_trajectories_plotting list.\n",
    "\"\"\"\n",
    "\n",
    "# EXPERIMENTER INPUTS:\n",
    "landmark_trajectories_plotting = ['MIDDLE_FINGER_TIP_x', 'THUMB_MCP_y']\n",
    "\n",
    "\"\"\"\n",
    "INPUT VARIABLES:\n",
    "click_info:                     [dict (key: string ('backspace','keyboard','stimcolumn'); Values: below)];\n",
    "    data:                       [xarray (1 x time samples) > strings];  For each  time sample of the array of each key there\n",
    "                                is a 'no_click' string or a click-string specific to that xarray. For example, the 'backspace'\n",
    "                                key of the dictionary has an array where each element is a string named either 'no_click' or \n",
    "                                'backspace_click'. The 'backspace_click' elements do not occur consecutively and describe the \n",
    "                                instance a click on the backspace key occured. For the 'keyboard' and 'stimcolumn' keys, similar\n",
    "                                rules apply. Time dimension is in units of s.\n",
    "    plotcolor:                  [string]; Color corresponding to the type of click for plotting.\n",
    "hand_trajectories:              [xarray (landmarks x time samples) > floats]; The time traces of the x- and y-coordinates \n",
    "                                for each landmark. The time domain is in units of seconds. \n",
    "landmark_trajectories_plotting: [list > strings]; Possible landmarks to display.\n",
    "\"\"\"\n",
    "\n",
    "# COMPUTATION:\n",
    "\n",
    "# Plotting hand landmarks and click information.\n",
    "functions_curtailing_video_data.plotting_landmarks_and_clicks(click_info, hand_trajectories, landmark_trajectories_plotting)\n"
   ]
  },
  {
   "cell_type": "markdown",
   "id": "8d9ba7d9-2619-402d-b8cc-184950c2947a",
   "metadata": {},
   "source": [
    "# LOADING BLOCK START AND STOP TIMES"
   ]
  },
  {
   "cell_type": "code",
   "execution_count": null,
   "id": "73b0c2ac-5ddf-4c8a-87fe-37329e43f0e8",
   "metadata": {},
   "outputs": [],
   "source": [
    "\"\"\"\n",
    "DESCRIPTION:\n",
    "Loading the true starting and stopping times for the current block. The starting and stop times are in:\n",
    "\n",
    "dir_intermediates + patient_id + '/Speller/BlocksStartAndStops/' + date + '/' + date + '_' + block_id +'_StartStop.txt'\n",
    "\n",
    "Feel free to modify the pathway in which these starting and ending points are stored and the necessary experimenter\n",
    "inputs appropriately.\n",
    "\n",
    "INPUT VARIABLES:\n",
    "block_id:          [String (BlockX, where X is an int))]; Block ID of the task that was run.\n",
    "date:              [string (YYYY_MM_DD)]; Date on which the block was run.\n",
    "dir_intermediates: [string]; Intermediates directory where relevant information is stored.\n",
    "patient_id:        [string]; Patient ID PYyyNnn or CCxx format, where y, n, and x are integers.\n",
    "\n",
    "OUTPUT VARIABLES:\n",
    "t_start: [float (units: s)]; True starting time of the block.\n",
    "t_stop:  [float (units: s)]; True ending time of the block.\n",
    "\"\"\"\n",
    "\n",
    "# COMPUTATION:\n",
    "\n",
    "# Loading the starting and stopping times for the block.\n",
    "t_start, t_stop = functions_curtailing_video_data.load_start_stop_times(block_id, date, dir_intermediates, patient_id)\n",
    "\n",
    "print(t_start)\n",
    "print(t_stop)\n"
   ]
  },
  {
   "cell_type": "markdown",
   "id": "bef828d4-b8fc-4425-b388-ba59c0f1af1b",
   "metadata": {},
   "source": [
    "# CURTAILING"
   ]
  },
  {
   "cell_type": "code",
   "execution_count": null,
   "id": "acf007dc-0b8f-4c6f-9045-fb73fae1c913",
   "metadata": {},
   "outputs": [],
   "source": [
    "\"\"\"\n",
    "DESCRIPTION:\n",
    "Curtailing the hand trajectories and the click information according to the block start and stop times. For reference see \n",
    "computing_block_start_stop_times.ipynb.\n",
    "\n",
    "INPUT VARIABLES:\n",
    "click_info:        [dict (key: string ('backspace','keyboard','stimcolumn'); Values: below)];\n",
    "    data:          [xarray (1 x time samples) > strings];  For each  time sample of the array of each key there is a 'no_click'\n",
    "                   string or a click-string specific to that xarray. For example, the 'backspace' key of the dictionary has an\n",
    "                   array where each element is a string named either 'no_click' or 'backspace_click'. The 'backspace_click' \n",
    "                   elements do not occur consecutively and describe the instance a click on the backspace key occured. For the\n",
    "                   'keyboard' and 'stimcolumn' keys, similar rules apply. Time dimension is in units of s.\n",
    "    plotcolor:     [string]; Color corresponding to the type of click for plotting.\n",
    "hand_trajectories: [xarray (landmarks x time samples) > floats]; The trajectories of the x- and y-coordinates\n",
    "                   for each landmark. The time domain is in units of seconds. \n",
    "t_start:           [float (units: s)]; True starting time of the block.\n",
    "t_stop:            [float (units: s)]; True ending time of the block.\n",
    "\n",
    "NECESSARY FUNCTIONS:\n",
    "curtailing_click_info\n",
    "curtailing_hand_trajectories\n",
    "\n",
    "OUTPUT VARIABLES:\n",
    "click_info_curt:        [dict (key: string ('backspace','keyboard','stimcolumn'); Values: data, plotcolor)]; Same as click_info, but \n",
    "                        all xarrays are curtailed within the start and stop times.\n",
    "hand_trajectories_curt: [xarray (landmarks x time samples) > floats]; Same as above but curtailed within the start and\n",
    "                        stop times.                   \n",
    "\"\"\"\n",
    "\n",
    "# COMPUTATION:\n",
    "\n",
    "# Curtailing the click information and hand trajectories.\n",
    "click_info_curt, hand_trajectories_curt = functions_curtailing_video_data.curtailing(click_info, hand_trajectories, t_start, t_stop)\n"
   ]
  },
  {
   "cell_type": "code",
   "execution_count": null,
   "id": "ebb30c8e-216c-4e84-845b-8613b1302f2a",
   "metadata": {},
   "outputs": [],
   "source": [
    "hand_trajectories_curt"
   ]
  },
  {
   "cell_type": "code",
   "execution_count": null,
   "id": "73dc2690-adc7-422c-9853-4bc8b81ae270",
   "metadata": {},
   "outputs": [],
   "source": [
    "click_info_curt"
   ]
  },
  {
   "cell_type": "markdown",
   "id": "43969a49-99df-4234-a4fb-9bdaa97f1c43",
   "metadata": {},
   "source": [
    "# PLOTTING CURTAILED INFORMATION:"
   ]
  },
  {
   "cell_type": "code",
   "execution_count": null,
   "id": "0baad86c-1008-49a3-bf2d-0b70e64f7ce6",
   "metadata": {},
   "outputs": [],
   "source": [
    "\"\"\"\n",
    "DESCRIPTION:\n",
    "The experimenter can choose to display whichever set of the above-displayed hand landmarks and inputs these into the \n",
    "landmark_trajectories_plotting list.\n",
    "\"\"\"\n",
    "\n",
    "# EXPERIMENTER INPUTS:\n",
    "landmark_trajectories_plotting = ['MIDDLE_FINGER_TIP_x', 'THUMB_MCP_y']\n",
    "\n",
    "\"\"\"\n",
    "click_info:        [dict (key: string ('backspace','keyboard','stimcolumn'); Values: below)];\n",
    "    data:          [xarray (1 x time samples) > strings];  For each  time sample of the array of each key there is a 'no_click'\n",
    "                   string or a click-string specific to that xarray. For example, the 'backspace' key of the dictionary has an\n",
    "                   array where each element is a string named either 'no_click' or 'backspace_click'. The 'backspace_click' \n",
    "                   elements do not occur consecutively and describe the instance a click on the backspace key occured. For the\n",
    "                   'keyboard' and 'stimcolumn' keys, similar rules apply. All xarrays are curtailed between the startng and \n",
    "                   stopping times. Time dimension is in units of s. \n",
    "    plotcolor:     [string]; Color corresponding to the type of click for plotting.\n",
    "hand_trajectories: [xarray (landmarks x time samples) > floats]; The trajectories of the x- and y-coordinates\n",
    "                   for each landmark. Curtailed between the starting and stopping times. The time domain is in units of seconds. \n",
    "\"\"\"\n",
    "\n",
    "# COMPUTATION:\n",
    "\n",
    "# Plotting curtailed hand landmarks and click information.\n",
    "functions_curtailing_video_data.plotting_landmarks_and_clicks(click_info_curt, hand_trajectories_curt, landmark_trajectories_plotting)\n"
   ]
  },
  {
   "cell_type": "markdown",
   "id": "4bd28cad-e695-4934-8b43-1444ec489096",
   "metadata": {},
   "source": [
    "# SAVING CURTAILED INFORMATION"
   ]
  },
  {
   "cell_type": "code",
   "execution_count": null,
   "id": "18f97302-9341-4a64-b7da-0bdbf6367969",
   "metadata": {},
   "outputs": [],
   "source": [
    "\"\"\"\n",
    "DESCRIPTION:\n",
    "Saving the curtailed hand trajectories and click information. The pathways to which the curtailed hand trajectories and click\n",
    "information are saved are shown below:\n",
    "\n",
    "dir_intermediates + patient_id + '/' + task + '/ClickDetections/'  + date + '/Curtailed/' + date + '_' + block_id + '_click_highlights'\n",
    "\n",
    "dir_intermediates + patient_id + '/' + task + '/HandTrajectories/'  + date + '/Curtailed/' + date + '_' + block_id + '_hand_trajectories.nc'\n",
    "\n",
    "Feel free to modify the pathway in which these starting and ending points are stored and the necessary experimenter\n",
    "inputs appropriately.\n",
    "\n",
    "INPUT VARIABLES:\n",
    "block_id:          [String (BlockX, where X is an int))]; Block ID of the task that was run.\n",
    "click_info:        [dict (key: string ('backspace','keyboard','stimcolumn'); Values: below)];\n",
    "    data:          [xarray (1 x time samples) > strings];  For each  time sample of the array of each key there is a 'no_click'\n",
    "                   string or a click-string specific to that xarray. For example, the 'backspace' key of the dictionary has an\n",
    "                   array where each element is a string named either 'no_click' or 'backspace_click'. The 'backspace_click' \n",
    "                   elements do not occur consecutively and describe the instance a click on the backspace key occured. For the\n",
    "                   'keyboard' and 'stimcolumn' keys, similar rules apply. All xarrays are curtailed between the startng and \n",
    "                   stopping times. Time dimension is in units of s. \n",
    "    plotcolor:     [string]; Color corresponding to the type of click for plotting.\n",
    "date:              [string (YYYY_MM_DD)]; Date on which the block was run.\n",
    "dir_intermediates: [string]; Intermediates directory where relevant information is stored.\n",
    "hand_trajectories: [xarray (landmarks x time samples) > floats]; The trajectories of the x- and y-coordinates\n",
    "                   for each landmark. Curtailed between the starting and stopping times. The time domain is in units of seconds. \n",
    "patient_id:        [string]; Patient ID PYyyNnn or CCxx format, where y, n, and x are integers.\n",
    "task:              [string]; Type of task that was run.\n",
    "\"\"\"\n",
    "\n",
    "# SAVING\n",
    "\n",
    "# Saving the curtailed hand trajectories and click information.\n",
    "functions_curtailing_video_data.saving_curtailed_info(block_id, click_info_curt, date, dir_intermediates, hand_trajectories_curt, patient_id, task)\n"
   ]
  },
  {
   "cell_type": "code",
   "execution_count": null,
   "id": "550d90dd-0027-45ac-9d8c-a5c8f07ae38c",
   "metadata": {},
   "outputs": [],
   "source": []
  }
 ],
 "metadata": {
  "kernelspec": {
   "display_name": "Python (JupyterEnv)",
   "language": "python",
   "name": "jupyterenv"
  },
  "language_info": {
   "codemirror_mode": {
    "name": "ipython",
    "version": 3
   },
   "file_extension": ".py",
   "mimetype": "text/x-python",
   "name": "python",
   "nbconvert_exporter": "python",
   "pygments_lexer": "ipython3",
   "version": "3.9.13"
  }
 },
 "nbformat": 4,
 "nbformat_minor": 5
}
