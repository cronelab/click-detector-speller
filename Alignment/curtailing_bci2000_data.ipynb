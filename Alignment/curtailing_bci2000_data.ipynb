{
 "cells": [
  {
   "cell_type": "markdown",
   "id": "b0978978-8c71-45e3-9ef6-0baffd541d4c",
   "metadata": {},
   "source": [
    "# SCRIPT DESCRIPTION"
   ]
  },
  {
   "cell_type": "raw",
   "id": "eda2a632-3213-4590-a2d4-3af44aabdbcb",
   "metadata": {
    "vscode": {
     "languageId": "raw"
    }
   },
   "source": [
    "When testing the switch-scanning speller, a video camera was used to capture the participant's movements of his right\n",
    "hand. This is because he would generate clicks by attempting single grasps of his hand and these residual movements were\n",
    "still observable. Thus these were used as ground truth for movement onset. Before the information from this video \n",
    "becomes useful, two things must happen:\n",
    "\n",
    "1) The BCI2000 data that contains neural signals as well as state changes corresponding to clicks must be synchronized\n",
    "   to the video. This is done by shifting the BCI2000 data back in time by some optimal time lag computed by cross-\n",
    "   correlating audio signals from BCI2000 with audio signals from the video feed. For more information, see\n",
    "   computing_audio_time_lag.ipynb\n",
    "\n",
    "2) The BCI2000 data must be cropped to the block start and stop times such that both the BCI2000 and video information\n",
    "   contain the same amount of time. The video information is cropped and saved in another script. For more information, \n",
    "   see curtailing_video_data.ipynb\n",
    "\n",
    "After aligning the BCI2000 data with the video and appropriately cropping it, it will be saved as a new .mat file.\n"
   ]
  },
  {
   "cell_type": "markdown",
   "id": "0814e6d1-79f1-4bbb-978e-573aca1dd734",
   "metadata": {},
   "source": [
    "# IMPORTING LIBRARIES"
   ]
  },
  {
   "cell_type": "code",
   "execution_count": 1,
   "id": "7818224b-a55d-4d4a-b3d3-bb1c26264b2d",
   "metadata": {},
   "outputs": [],
   "source": [
    "# Please check to ensure that all of the libraries imported in functions_curtailing_bci2000_data.py are installed\n",
    "# in your environment or in the same file pathway. \n",
    "import functions_curtailing_bci2000_data\n"
   ]
  },
  {
   "cell_type": "markdown",
   "id": "38690a29-b0b7-46ee-a65c-c636430acf1f",
   "metadata": {},
   "source": [
    "# INPUTTING PARAMETERS"
   ]
  },
  {
   "cell_type": "code",
   "execution_count": 2,
   "id": "41f1b32a-fbc1-4e37-9af1-5b9e8cf73fa8",
   "metadata": {},
   "outputs": [],
   "source": [
    "\"\"\"\n",
    "DESCRIPTION:\n",
    "Please input the parameters below.\n",
    "\"\"\"\n",
    "\n",
    "# EXPERIMENTER INPUTS:\n",
    "block_id          = 'Block3'\n",
    "date              = '2023_01_05'\n",
    "dir_bci2000_data  = '/mnt/shared/ecog/'\n",
    "dir_intermediates = '/mnt/shared/danprocessing/Projects/PseudoOnlineTests_for_RTCoG/Intermediates/'\n",
    "patient_id        = 'CC01'\n",
    "task              = 'Speller'\n",
    "\n",
    "\"\"\"\n",
    "INPUT VARIABLES:\n",
    "block_id:          [String (BlockX, where X is an int))]; Block ID of the task that was run.\n",
    "date:              [string (YYYY_MM_DD)]; Date on which the block was run.\n",
    "dir_bci2000_data:  [string]; Directory where the BCI2000 data is stored.\n",
    "dir_intermediates: [string]; Intermediates directory where relevant information is stored.\n",
    "patient_id:        [string]; Patient ID PYyyNnn or CCxx format, where y, n, and x are integers.\n",
    "task:              [string]; Type of task that was run.\n",
    "\"\"\";\n"
   ]
  },
  {
   "cell_type": "markdown",
   "id": "c2fb6529-a57e-44a0-8d56-ca68338eb8c5",
   "metadata": {},
   "source": [
    "# LOADING .MAT FILE"
   ]
  },
  {
   "cell_type": "code",
   "execution_count": 3,
   "id": "4172703a-9835-49d2-9790-e745ffd1ae96",
   "metadata": {},
   "outputs": [],
   "source": [
    "\"\"\"\n",
    "DESCRIPTION:\n",
    "Loading the matlab file whose data (signals and states) we will align and crop. The .mat file \n",
    "is imported from:\n",
    "\n",
    "dir_bci2000_data + patient_id + '/mat/' + date + '/' + task + '_' + block_id + '.mat'\n",
    "\n",
    "Feel free to modify the pathway in which this .mat file is stored and the necessary experimenter inputs appropriately.\n",
    "\n",
    "INPUT VARIABLES:\n",
    "block_id:          [String (BlockX, where X is an int))]; Block ID of the task that was run.\n",
    "date:              [string (YYYY_MM_DD)]; Date on which the block was run.\n",
    "dir_bci2000_data:  [string]; Directory where the BCI2000 data is stored.\n",
    "patient_id:        [string]; Patient ID PYyyNnn or CCxx format, where y, n, and x are integers.\n",
    "task:              [string]; Type of task that was run.\n",
    "\n",
    "OUTPUT VARIABLES:\n",
    "bci2000_data: [dictionary]; Contains all experimentally-related signals, states, and parameters.\n",
    "\"\"\"\n",
    "\n",
    "# COMPUTATION:\n",
    "\n",
    "# Loading the .mat file.\n",
    "bci2000_data = functions_curtailing_bci2000_data.load_bci2000_data(block_id, date, dir_bci2000_data, patient_id, task)\n"
   ]
  },
  {
   "cell_type": "markdown",
   "id": "399d2d98-f80e-468c-9ab7-f27906fc85c1",
   "metadata": {},
   "source": [
    "# LOADING TIME LAG BETWEEN BCI2000 AND VIDEO RECORDING"
   ]
  },
  {
   "cell_type": "code",
   "execution_count": 4,
   "id": "8efb4299-f077-41e8-8437-4b596a578165",
   "metadata": {},
   "outputs": [
    {
     "name": "stdout",
     "output_type": "stream",
     "text": [
      "TIME LAG (s): 0.247\n"
     ]
    }
   ],
   "source": [
    "\"\"\"\n",
    "DESCRIPTION:\n",
    "Loading the time lag between BCI2000 and the video recording. The time lag is imported from:\n",
    "\n",
    "dir_intermediates + patient_id + '/Speller/BlocksStartAndStops/' + date + '/' + date + '_' + block_id +'_StartStop.txt'\n",
    "\n",
    "Feel free to modify the pathway in which these starting and ending points are stored and the necessary experimenter \n",
    "inputs appropriately.\n",
    "\n",
    "INPUT VARIABLES:\n",
    "block_id:          [String (BlockX, where X is an int)]; Block ID of the task that was run.\n",
    "date:              [string (YYYY_MM_DD)]; Date on which the block was run.\n",
    "dir_intermediates: [string]; [string]; Intermediates directory where relevant information is stored.\n",
    "patient_id:        [string]; Patient ID PYyyNnn or CCxx format, where y, n, and x are integers.\n",
    "task:              [string]; Type of task that was run. \n",
    "\n",
    "OUTPUT VARIABLES:\n",
    "t_lag_seconds:  [float (units: s)]; The time lag between the audio from BCI2000 and the video audio. In other words, \n",
    "                t_lag is the amount of time that the BCI2000 audio signal is leading the video audio signal. If t_lag =\n",
    "                150 ms, this means that BCI2000 audio is ahead of the video audio by 150 ms. For example, an audio event\n",
    "                registered by the video to be at 3.0 s would actually be registered at 3.15 s by BCI2000. \n",
    "\"\"\"\n",
    "\n",
    "# COMPUTATION:\n",
    "\n",
    "# Loading the time lag.\n",
    "t_lag_seconds = functions_curtailing_bci2000_data.load_time_lag(block_id, date, dir_intermediates, patient_id, task)\n"
   ]
  },
  {
   "cell_type": "markdown",
   "id": "d84f06df-3d75-41b1-bf96-f4e52ff7b475",
   "metadata": {},
   "source": [
    "# LOADING BLOCK START AND STOP TIMES"
   ]
  },
  {
   "cell_type": "code",
   "execution_count": 5,
   "id": "74d46d2e-4fc3-4a6d-a3ec-a68ca805f5f1",
   "metadata": {},
   "outputs": [],
   "source": [
    "\"\"\"\n",
    "DESCRIPTION:\n",
    "Loading the true starting and stopping times for the current block. The starting and stop times are in:\n",
    "\n",
    "dir_intermediates + patient_id + '/Speller/BlocksStartAndStops/' + date + '/' + date + '_' + block_id +'_StartStop.txt'\n",
    "\n",
    "Feel free to modify the pathway in which these starting and ending points are stored and the necessary experimenter\n",
    "inputs appropriately.\n",
    "\n",
    "INPUT VARIABLES:\n",
    "block_id:          [String (BlockX, where X is an int))]; Block ID of the task that was run.\n",
    "date:              [string (YYYY_MM_DD)]; Date on which the block was run.\n",
    "dir_intermediates: [string]; Intermediates directory where relevant information is stored.\n",
    "patient_id:        [string]; Patient ID PYyyNnn or CCxx format, where y, n, and x are integers.\n",
    "\n",
    "OUTPUT VARIABLES:\n",
    "t_start: [float (units: s)]; True starting time of the block.\n",
    "t_stop:  [float (units: s)]; True ending time of the block.\n",
    "\"\"\"\n",
    "\n",
    "# COMPUTATION:\n",
    "\n",
    "# Loading the starting and stopping times for the block.\n",
    "t_start,\\\n",
    "t_stop = functions_curtailing_bci2000_data.load_start_stop_times(block_id, date, dir_intermediates, patient_id)\n"
   ]
  },
  {
   "cell_type": "markdown",
   "id": "05ece9fc-c61a-4d42-8275-7bcfcc58de98",
   "metadata": {},
   "source": [
    "# CREATING TIME ARRAY"
   ]
  },
  {
   "cell_type": "code",
   "execution_count": 6,
   "id": "ff6cd526-0f2b-4863-8186-935669c9a2db",
   "metadata": {},
   "outputs": [],
   "source": [
    "\"\"\"\n",
    "DESCRIPTION:\n",
    "Creating the time array according to the total number of data samples and the sampling rate.\n",
    "\n",
    "INPUT VARIABLES:\n",
    "bci2000_data: [dictionary]; Contains all experimentally-related signals, states, and parameters.\n",
    "\n",
    "OUTPUT VARIABLES:\n",
    "t_seconds: [array (time samples,) > floats (units: s)]; Time array for the recorded data block.\n",
    "\"\"\"\n",
    "\n",
    "# COMPUTATION:\n",
    "\n",
    "# Computing the time array.\n",
    "t_seconds = functions_curtailing_bci2000_data.creating_time_array(bci2000_data)\n"
   ]
  },
  {
   "cell_type": "markdown",
   "id": "47efbda4-b7f3-4205-a6f0-ba57cb85c830",
   "metadata": {},
   "source": [
    "# SHIFT AND CURTAIL BCI2000 SIGNALS, STATES, AND TIME ARRAY BY TIME LAG"
   ]
  },
  {
   "cell_type": "code",
   "execution_count": 7,
   "id": "3c25fd4c-9c67-4375-b34e-51ec11ccb422",
   "metadata": {},
   "outputs": [],
   "source": [
    "\"\"\"\n",
    "DESCRIPTION:\n",
    "Shifting the time array by the time lag and deleting the part of the resulting array that contains negative time values.\n",
    "Deleting the corresponding parts of the signals array and each array in the states dictionary.\n",
    "\n",
    "INPUT VARIABLES:\n",
    "bci2000_data:   [dictionary]; Contains all experimentally-related signals, states, and parameters.\n",
    "t_lag_seconds:  [float (units: s)]; The time lag between the audio from BCI2000 and the video audio. In other words, \n",
    "                t_lag is the amount of time that the BCI2000 audio signal is leading the video audio signal. If t_lag =\n",
    "                150 ms, this means that BCI2000 audio is ahead of the video audio by 150 ms. For example, an audio event\n",
    "                registered by the video to be at 3.0 s would actually be registered at 3.15 s by BCI2000. \n",
    "t_seconds:      [array (time samples,) > floats (units: s)]; Time array for the recorded data block.\n",
    "\n",
    "OUTPUT VARIABLES:\n",
    "signals:     [array (time samples, channels) > floats (units: uV)]; Array of signals for each neural and analog channel\n",
    "             at each time point. Time samples are curtailed according to the time lag. \n",
    "states_dict: [dictionary (Key: string (state); Value: array (time samples,) > ints)]; For each key, there exists an \n",
    "             array of integer values describing the state at each time sample. For each array, time samples are \n",
    "             curtailed according to the time lag. \n",
    "t_seconds:   [array (time samples,) > floats (units: s)]; Time array for the recorded data block. Shifted by the time \n",
    "             lag and curtailed such that the resulting negative times are deleted.\n",
    "\"\"\"\n",
    "\n",
    "# COMPUTATION:\n",
    "\n",
    "# Curtailing BCI2000 data according to the time lag.\n",
    "signals,\\\n",
    "states_dict,\\\n",
    "t_seconds = functions_curtailing_bci2000_data.curtail_bci2000_data_by_time_lag(bci2000_data, t_lag_seconds, t_seconds)\n"
   ]
  },
  {
   "cell_type": "markdown",
   "id": "a8bbdbc0-b779-43f8-82eb-c6a503f8d67b",
   "metadata": {},
   "source": [
    "# CURTAIL BCI2000 SIGNALS, STATES, AND TIME ARRAY BY BLOCK START AND STOP TIMES"
   ]
  },
  {
   "cell_type": "code",
   "execution_count": 8,
   "id": "1f778277-0b49-4f15-ae45-a0e6ef47fe74",
   "metadata": {},
   "outputs": [],
   "source": [
    "\"\"\"\n",
    "DESCRIPTION:\n",
    "Curtailing the signals, each array of the states dictionary, and time array such that only the samples \n",
    "corresponding to time samples between the block start and stop times remain. \n",
    "\n",
    "INPUT VARIABLES:\n",
    "signals:     [array (time samples, channels) > floats (units: uV)]; Array of signals for each neural and analog channel\n",
    "             at each time point. Time samples are curtailed according to the time lag. \n",
    "states_dict: [dictionary (Key: string (state); Value: array (time samples,) > ints)]; For each key, there exists an \n",
    "             array of integer values describing the state at each time sample. For each array, time samples are \n",
    "             curtailed according to the time lag. \n",
    "t_seconds:   [array (time samples,) > floats (units: s)]; Time array for the recorded data block. Shifted by the time \n",
    "             lag and curtailed such that the resulting negative times are deleted.\n",
    "t_start:     [float (units: s)]; True starting time of the block.\n",
    "t_stop:      [float (units: s)]; True ending time of the block.\n",
    "\n",
    "OUTPUT VARIABLES:\n",
    "signals:     [array (time samples, channels) > floats (units: uV)]; Array of signals for each neural and analog channel\n",
    "             at each time point. Time samples are curtailed according to the time lag. Time samples are curtailed \n",
    "             according to the block start and stop times.\n",
    "states_dict: [dictionary (Key: string (state); Value: array (time samples,) > ints)]; For each key, there exists an \n",
    "             array of integer values describing the state at each time sample. For each array, time samples are \n",
    "             curtailed according to the block start and stop times. \n",
    "t_seconds:   [array (time samples,) > floats (units: s)]; Time array for the recorded data block. Time samples are\n",
    "             curtailed according to the block start and stop times.\n",
    "\"\"\"\n",
    "\n",
    "# COMPUTATION:\n",
    "\n",
    "# Curtaling the BCI2000 data according to the block start and stop times.\n",
    "signals,\\\n",
    "states_dict,\\\n",
    "t_seconds = functions_curtailing_bci2000_data.curtail_bci2000_data_by_block_start_stop_times(signals, states_dict,\\\n",
    "                                                                                             t_seconds, t_start, t_stop)\n"
   ]
  },
  {
   "cell_type": "markdown",
   "id": "55a95b7e-18c8-4fea-833e-8841b0a724c7",
   "metadata": {},
   "source": [
    "# SAVING MODIFIED SIGNALS AND STATES"
   ]
  },
  {
   "cell_type": "code",
   "execution_count": 9,
   "id": "e16f2fe6-b634-4490-bab7-ab8ea60b45d5",
   "metadata": {},
   "outputs": [],
   "source": [
    "\"\"\"\n",
    "DESCRIPTION:\n",
    "Overwriting the signals and states values in the BCI2000 data dictionary. Also adding a 'time' key to which holds the \n",
    "time array. Saving this BCI2000 data as a new .mat file in the following pathway:\n",
    "\n",
    "dir_bci2000_data + patient_id + '/mat/' + date + '/' + task + '_Adjusted_' + block_id + '.mat'\n",
    "\n",
    "Feel free to modify the pathway in which this .mat file is saved and the necessary experimenter inputs appropriately.\n",
    "\n",
    "INPUT VARIABLES:\n",
    "bci2000_data:     [dictionary]; Contains all experimentally-related signals, states, and parameters.\n",
    "block_id:         [String (BlockX, where X is an int))]; Block ID of the task that was run.\n",
    "date:             [string (YYYY_MM_DD)]; Date on which the block was run.\n",
    "dir_bci2000_data: [string]; Directory where the BCI2000 data is stored.\n",
    "patient_id:       [string]; Patient ID PYyyNnn or CCxx format, where y, n, and x are integers.\n",
    "signals:          [array (time samples, channels) > floats (units: uV)]; Array of signals for each neural and analog \n",
    "                  channel at each time point. Time samples are curtailed according to the time lag. Time samples are \n",
    "                  curtailed according to the block start and stop times.\n",
    "states_dict:      [dictionary (Key: string (state); Value: array (time samples,) > ints)]; For each key, there exists an \n",
    "                  array of integer values describing the state at each time sample. For each array, time samples are \n",
    "                  curtailed according to the block start and stop times. \n",
    "t_seconds:        [array (time samples,) > floats (units: s)]; Time array for the recorded data block. Time samples are\n",
    "                  curtailed according to the block start and stop times.\n",
    "task:             [string]; Type of task that was run.\n",
    "\"\"\"\n",
    "\n",
    "# COMPUTATION:\n",
    "\n",
    "# Saving the curtailed BCI2000 data.\n",
    "functions_curtailing_bci2000_data.save_curtailed_BCI2000_data(bci2000_data, block_id, date, dir_bci2000_data,\\\n",
    "                                                              patient_id, signals, states_dict, t_seconds, task)\n"
   ]
  }
 ],
 "metadata": {
  "kernelspec": {
   "display_name": "ClickDetectorEnv",
   "language": "python",
   "name": "python3"
  },
  "language_info": {
   "codemirror_mode": {
    "name": "ipython",
    "version": 3
   },
   "file_extension": ".py",
   "mimetype": "text/x-python",
   "name": "python",
   "nbconvert_exporter": "python",
   "pygments_lexer": "ipython3",
   "version": "3.9.13"
  }
 },
 "nbformat": 4,
 "nbformat_minor": 5
}
