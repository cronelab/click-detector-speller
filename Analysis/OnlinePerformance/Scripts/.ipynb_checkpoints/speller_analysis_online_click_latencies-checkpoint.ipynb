{
 "cells": [
  {
   "cell_type": "markdown",
   "id": "5a473b7f-6b4b-4bfb-815d-c28df00dce1b",
   "metadata": {},
   "source": [
    "# SCRIPT DESCRIPTION"
   ]
  },
  {
   "cell_type": "raw",
   "id": "f1365aed-0a73-4b10-aef2-54d96748f91d",
   "metadata": {
    "vscode": {
     "languageId": "raw"
    }
   },
   "source": [
    "Latencies from a set of experimenter-specified blocks will be uploaded from their respective dictionaries such that \n",
    "their across-block mean and standard deviations are computed."
   ]
  },
  {
   "cell_type": "markdown",
   "id": "a528d62d-74f7-4a5e-9a24-a6036dd06b37",
   "metadata": {},
   "source": [
    "# IMPORTING LIBRARIES"
   ]
  },
  {
   "cell_type": "code",
   "execution_count": 1,
   "id": "2d981e07-414a-4805-b312-ad0652ffc749",
   "metadata": {},
   "outputs": [],
   "source": [
    "# Please check to ensure that all of the libraries imported in functions_speller_analysis_online_latencies.py are \n",
    "# installed in your environment or in the same file pathway. \n",
    "import functions_speller_analysis_online_latencies\n",
    "import scipy\n"
   ]
  },
  {
   "cell_type": "code",
   "execution_count": 2,
   "id": "b2ade059-2d78-4108-9ee1-b7e429e22832",
   "metadata": {},
   "outputs": [],
   "source": [
    "\"\"\"\n",
    "DESCRIPTION:\n",
    "The experimenter decides which blocks from what dates will be uploaded and analyzed.\n",
    "\"\"\"\n",
    "# EXPERIMENTER INPUTS:\n",
    "patient_id = 'CC01'\n",
    "\n",
    "\"\"\"\n",
    "INPUT VARIABLES:\n",
    "date_block_dict: [dictionary (keys: strings (dates); values: list > ints (blocks)]; Dictionary of dates and blocks \n",
    "corresponding to each date. \n",
    "\"\"\"\n",
    "\n",
    "# COMPUTATION:\n",
    "\n",
    "# Initializing the dictionary of blocks from every date which will be used for computing latency statistics.\n",
    "date_block_dict = {}\n",
    "\n",
    "# Populating the dictionary\n",
    "\n",
    "# 7-votes\n",
    "# date_block_dict['2022_11_08'] = [1,2]\n",
    "# date_block_dict['2022_11_09'] = [1]\n",
    "# date_block_dict['2022_11_11'] = [1,2,3]\n",
    "# date_block_dict['2022_11_15'] = [1,2]\n",
    "# date_block_dict['2022_11_17'] = [1,2,3,4]\n",
    "# date_block_dict['2022_11_18'] = [1,2,3]\n",
    "\n",
    "# date_block_dict['2022_11_29'] = [1,2] \n",
    "# date_block_dict['2022_11_30'] = [1,2,3]\n",
    "# date_block_dict['2022_12_13'] = [1,2]\n",
    "\n",
    "\n",
    "# # 4-Votes\n",
    "# date_block_dict['2022_12_13'] = [3]\n",
    "date_block_dict['2022_12_15'] = [1,2,3,4]\n",
    "# date_block_dict['2022_12_16'] = [1,2,3,4,5]\n",
    "# date_block_dict['2022_12_19'] = [1,2]\n",
    "# date_block_dict['2022_12_21'] = [1,2]\n",
    "# date_block_dict['2023_01_05'] = [1,2,3]\n",
    "# date_block_dict['2023_01_06'] = [1,2,3]\n",
    "# date_block_dict['2023_01_10'] = [1,2,3]\n",
    "# date_block_dict['2023_01_12'] = [1,2,3]\n",
    "\n",
    "# 4-Votes Performance drop\n",
    "# date_block_dict['2023_01_19'] = [1,2]\n",
    "# date_block_dict['2023_01_20'] = [1]\n",
    "# date_block_dict['2023_01_31'] = [1]\n",
    "# date_block_dict['2023_02_02'] = [1,2]\n",
    "# date_block_dict['2023_02_03'] = [1,2]\n",
    "# date_block_dict['2023_02_09'] = [1,2]\n",
    "\n"
   ]
  },
  {
   "cell_type": "markdown",
   "id": "af9c6941-4e46-4d82-bf92-50f6bbae8aae",
   "metadata": {},
   "source": [
    "# DIRECTORIES"
   ]
  },
  {
   "cell_type": "code",
   "execution_count": 3,
   "id": "f2b5a047-193b-42b4-b018-9a7aecd5f8d5",
   "metadata": {},
   "outputs": [],
   "source": [
    "\n",
    "# EXPERIMENTER INPUTS\n",
    "\n",
    "dir_click_latencies = '../../MainFigures/SourceData/ClickLatencies/'\n",
    "# dir_click_latencies = '../../SupplementaryFigures/SourceData/ClickLatencies/'\n",
    "\n",
    "\"\"\"\n",
    "dir_base: [string]; Base directory where all latency information is found.\n",
    "\"\"\";\n"
   ]
  },
  {
   "cell_type": "markdown",
   "id": "7ebea052-8cfe-4341-9919-ffa4fbd81b0d",
   "metadata": {},
   "source": [
    "# CREATING ARRAY OF LATENCY DATA FROM ALL SPECIFIED BLOCKS"
   ]
  },
  {
   "cell_type": "code",
   "execution_count": 4,
   "id": "53eae3ed-3235-4e5f-804f-388ce44a50eb",
   "metadata": {},
   "outputs": [],
   "source": [
    "\"\"\"\n",
    "DESCRIPTION:\n",
    "Extracting all the latencies from the experimenter-input blocks into one array.\n",
    "\"\"\"\n",
    "# EXPERIMENTER INPUTS:\n",
    "movement           = 'grasp'\n",
    "folder_bci2k_or_ui = 'UI' # UI or BCI2000\n",
    "\n",
    "\"\"\"\n",
    "INPUT VARIABLES:\n",
    "date_block_dict:     [dictionary (keys: strings (dates); values: list > ints (blocks)]; Dictionary of dates and blocks\n",
    "                     corresponding to each date. \n",
    "dir_click_latencies: [string]; Base directory where the click latencies are stored.\n",
    "folder_bci2k_or_ui:  [string (BCI2000/UI)]; The specific folder from where to extract BCI2000 or UI latencies.\n",
    "movement:            [string]; The movement from which the onsets and offsets will be extracted.\n",
    "\n",
    "OUTPUT VARIABLES:\n",
    "latencies_arr: [array > floats (units: s)]; Array of latencies from all experimenter-input blocks.\n",
    "\"\"\"\n",
    "\n",
    "# COMPUTATION:\n",
    "\n",
    "# Extracting all latencies into one array.\n",
    "latencies_arr = functions_speller_analysis_online_latencies.extracting_latencies(date_block_dict, dir_click_latencies,\\\n",
    "                                                                                 folder_bci2k_or_ui, movement)\n"
   ]
  },
  {
   "cell_type": "markdown",
   "id": "485c0474-c12e-41f5-bd11-671bce30d25f",
   "metadata": {},
   "source": [
    "# COMPUTING THE MEAN AND STANDARD DEVIATION OF THE LATENCIES"
   ]
  },
  {
   "cell_type": "code",
   "execution_count": 5,
   "id": "909218b4-837d-489b-8cc2-309c62e9d362",
   "metadata": {},
   "outputs": [
    {
     "name": "stdout",
     "output_type": "stream",
     "text": [
      "Latency Mean (s): \t 0.643\n",
      "Latency Median (s): \t 0.634\n",
      "Latency Stdev (s): \t 0.12\n",
      "95% CI:  ConfidenceInterval(low=0.6326707240742132, high=0.6535481694438372)\n"
     ]
    },
    {
     "data": {
      "image/png": "[encoded data removed]",
      "text/plain": [
       "<Figure size 640x480 with 1 Axes>"
      ]
     },
     "metadata": {},
     "output_type": "display_data"
    }
   ],
   "source": [
    "\"\"\"\n",
    "DESCRIPTION:\n",
    "Computing the mean and standard deviation of the latencies.\n",
    "\n",
    "INPUT VARIABLES:\n",
    "latencies_arr: [array > floats (units: s)]; Array of latencies from all experimenter-input blocks.\n",
    "\n",
    "OUTPUT VARIABLES:\n",
    "latencies_mean:  [float (units: s)]; Mean of latencies.\n",
    "latencies_stdev: [float (units: s)]; Standard deviation of latencies.\n",
    "\"\"\"\n",
    "\n",
    "# COMPUTATION:\n",
    "\n",
    "# Computing the mean and standard deviations.\n",
    "functions_speller_analysis_online_latencies.latency_stats(latencies_arr)\n"
   ]
  },
  {
   "cell_type": "markdown",
   "id": "054ee8a1-2a6d-475e-a178-d574b4e5519c",
   "metadata": {},
   "source": [
    "# COMPARING 4-VOTE TO 7-VOTE LATENCIES"
   ]
  },
  {
   "cell_type": "code",
   "execution_count": 6,
   "id": "d37846ed-2bec-4930-968a-7fa568ebfb8c",
   "metadata": {},
   "outputs": [],
   "source": [
    "# ui_7vote_dict = {}\n",
    "# ui_7vote_dict['2022_11_08'] = [1,2]\n",
    "# ui_7vote_dict['2022_11_09'] = [1]\n",
    "# ui_7vote_dict['2022_11_11'] = [1,2,3]\n",
    "# ui_7vote_dict['2022_11_15'] = [1,2]\n",
    "# ui_7vote_dict['2022_11_17'] = [1,2,3,4]\n",
    "# ui_7vote_dict['2022_11_18'] = [1,2,3]\n",
    "# ui_7vote_dict['2022_11_29'] = [1,2] \n",
    "# ui_7vote_dict['2022_11_30'] = [1,2,3]\n",
    "# ui_7vote_dict['2022_12_13'] = [1,2]\n",
    "\n",
    "# ui_4vote_dict = {}\n",
    "# ui_4vote_dict['2022_12_13'] = [3]\n",
    "# ui_4vote_dict['2022_12_15'] = [1,2,3,4]\n",
    "# ui_4vote_dict['2022_12_16'] = [1,2,3,4,5]\n",
    "# ui_4vote_dict['2022_12_19'] = [1,2]\n",
    "# ui_4vote_dict['2022_12_21'] = [1,2]\n",
    "# ui_4vote_dict['2023_01_05'] = [1,2,3]\n",
    "# ui_4vote_dict['2023_01_06'] = [1,2,3]\n",
    "# ui_4vote_dict['2023_01_10'] = [1,2,3]\n",
    "# ui_4vote_dict['2023_01_12'] = [1,2,3]\n",
    "\n",
    "# bci2k_7vote_dict = {}\n",
    "# bci2k_7vote_dict['2022_11_29'] = [1,2] \n",
    "# bci2k_7vote_dict['2022_11_30'] = [1,2,3]\n",
    "# bci2k_7vote_dict['2022_12_13'] = [1,2]\n",
    "\n",
    "# bci2k_4vote_dict = {}\n",
    "# bci2k_4vote_dict['2022_12_13'] = [3]\n",
    "# bci2k_4vote_dict['2022_12_15'] = [1,2,3,4]\n",
    "# bci2k_4vote_dict['2022_12_16'] = [1,2,3,4,5]\n",
    "# bci2k_4vote_dict['2022_12_19'] = [1,2]\n",
    "# bci2k_4vote_dict['2022_12_21'] = [1,2]\n",
    "# bci2k_4vote_dict['2023_01_05'] = [1,2,3]\n",
    "# bci2k_4vote_dict['2023_01_06'] = [1,2,3]\n",
    "# bci2k_4vote_dict['2023_01_10'] = [1,2,3]\n",
    "# bci2k_4vote_dict['2023_01_12'] = [1,2,3]\n",
    "\n",
    "\n",
    "# # Extracting all latencies of BCI2000 detection using 7-votes into one array.\n",
    "# latencies_arr_7votes_bci2k = functions_speller_analysis_online_latencies.extracting_latencies(bci2k_7vote_dict,\\\n",
    "#                                                                                               dir_click_latencies,\\\n",
    "#                                                                                               'BCI2000', movement)\n",
    "\n",
    "# # Extracting all latencies of BCI2000 detection using 4-votes into one array.\n",
    "# latencies_arr_4votes_bci2k = functions_speller_analysis_online_latencies.extracting_latencies(bci2k_4vote_dict,\\\n",
    "#                                                                                               dir_click_latencies,\\\n",
    "#                                                                                               'BCI2000', movement)\n",
    "\n",
    "# # Extracting all latencies of UI detection using 7-votes into one array.\n",
    "# latencies_arr_7votes_ui = functions_speller_analysis_online_latencies.extracting_latencies(ui_7vote_dict,\\\n",
    "#                                                                                            dir_click_latencies,\\\n",
    "#                                                                                            'UI', movement)\n",
    "\n",
    "# # Extracting all latencies of UI detection using 7-votes into one array.\n",
    "# latencies_arr_4votes_ui = functions_speller_analysis_online_latencies.extracting_latencies(ui_4vote_dict,\\\n",
    "#                                                                                            dir_click_latencies,\\\n",
    "#                                                                                            'UI', movement)\n",
    "\n",
    "\n",
    "# # Test for narmality for each distribution. If p < 0.05, not normally distributed.\n",
    "# print(scipy.stats.normaltest(latencies_arr_7votes_bci2k).pvalue)\n",
    "# print(scipy.stats.normaltest(latencies_arr_4votes_bci2k).pvalue)\n",
    "# print(scipy.stats.normaltest(latencies_arr_7votes_ui).pvalue)\n",
    "# print(scipy.stats.normaltest(latencies_arr_4votes_ui).pvalue)\n"
   ]
  },
  {
   "cell_type": "markdown",
   "id": "65cfb84f-c05e-4d39-b882-71da705b347d",
   "metadata": {},
   "source": [
    "# Wilcoxon Rank-Sum Test for Performance Metrics (4-vote vs. 7-vote)"
   ]
  },
  {
   "cell_type": "code",
   "execution_count": 7,
   "id": "087af23e-5e47-4d8e-ae37-8ea5bdadc121",
   "metadata": {},
   "outputs": [],
   "source": [
    "# print('Wilcoxon Rank-Sum (Latency BCI2000):', scipy.stats.ranksums(latencies_arr_7votes_bci2k, latencies_arr_4votes_bci2k))\n",
    "# print('Wilcoxon Rank-Sum (Latency User Interface):', scipy.stats.ranksums(latencies_arr_7votes_ui, latencies_arr_4votes_ui))"
   ]
  },
  {
   "cell_type": "markdown",
   "id": "6766b6c8-c25f-4197-8909-96fab01d8c80",
   "metadata": {},
   "source": [
    "# Wilcoxon Rank-Sum Test for Performance Metrics (4-vote vs. 6-vote)"
   ]
  },
  {
   "cell_type": "code",
   "execution_count": 8,
   "id": "e4e874df-25e1-47d5-9eb1-e6e00fb65d68",
   "metadata": {},
   "outputs": [],
   "source": [
    "# ui_6vote_dict = {}\n",
    "# ui_6vote_dict['2023_05_18'] = [3]\n",
    "# ui_6vote_dict['2023_05_19'] = [2]\n",
    "# ui_6vote_dict['2023_05_23'] = [1]\n",
    "# ui_6vote_dict['2023_05_25'] = [2]\n",
    "# ui_6vote_dict['2023_05_30'] = [2]\n",
    "# ui_6vote_dict['2023_06_02'] = [2]\n",
    "\n",
    "# dir_click_latencies = '../../SupplementaryFigures/SourceData/ClickLatencies/'\n",
    "\n",
    "# # COMPUTATION:\n",
    "\n",
    "\n",
    "# # Extracting all latencies of BCI2000 and UI detection using 7-votes into one array.\n",
    "# latencies_arr_6votes_bci2k = functions_speller_analysis_online_latencies.extracting_latencies(ui_6vote_dict,\\\n",
    "#                                                                                            dir_click_latencies,\\\n",
    "#                                                                                            'BCI2000', movement)\n",
    "# latencies_arr_6votes_ui = functions_speller_analysis_online_latencies.extracting_latencies(ui_6vote_dict,\\\n",
    "#                                                                                            dir_click_latencies,\\\n",
    "#                                                                                            'UI', movement)\n",
    "\n",
    "# # Computing the mean and standard deviations.\n",
    "# functions_speller_analysis_online_latencies.latency_stats(latencies_arr_6votes_bci2k)\n",
    "# functions_speller_analysis_online_latencies.latency_stats(latencies_arr_6votes_ui)\n",
    "\n",
    "\n",
    "# print('Wilcoxon Rank-Sum (Latency User Interface):', scipy.stats.ranksums(latencies_arr_6votes_ui, latencies_arr_4votes_ui))\n"
   ]
  },
  {
   "cell_type": "code",
   "execution_count": null,
   "id": "e12d8ecc-6f96-4088-8360-d5d30d359b1a",
   "metadata": {},
   "outputs": [],
   "source": []
  }
 ],
 "metadata": {
  "kernelspec": {
   "display_name": "Python (ClickDetectorEnv)",
   "language": "python",
   "name": "clickdetectorenv"
  },
  "language_info": {
   "codemirror_mode": {
    "name": "ipython",
    "version": 3
   },
   "file_extension": ".py",
   "mimetype": "text/x-python",
   "name": "python",
   "nbconvert_exporter": "python",
   "pygments_lexer": "ipython3",
   "version": "3.9.13"
  }
 },
 "nbformat": 4,
 "nbformat_minor": 5
}
