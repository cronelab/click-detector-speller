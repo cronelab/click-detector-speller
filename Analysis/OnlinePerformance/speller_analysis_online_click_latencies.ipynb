{
 "cells": [
  {
   "cell_type": "markdown",
   "id": "5a473b7f-6b4b-4bfb-815d-c28df00dce1b",
   "metadata": {},
   "source": [
    "# SCRIPT DESCRIPTION"
   ]
  },
  {
   "cell_type": "raw",
   "id": "f1365aed-0a73-4b10-aef2-54d96748f91d",
   "metadata": {},
   "source": [
    "Latencies from a set of experimenter-specified blocks will be uploaded from their respective dictionaries such that their across-block mean and standard deviations\n",
    "can be computed."
   ]
  },
  {
   "cell_type": "markdown",
   "id": "a528d62d-74f7-4a5e-9a24-a6036dd06b37",
   "metadata": {},
   "source": [
    "# IMPORTING LIBRARIES"
   ]
  },
  {
   "cell_type": "code",
   "execution_count": 1,
   "id": "2d981e07-414a-4805-b312-ad0652ffc749",
   "metadata": {},
   "outputs": [],
   "source": [
    "# Please check to ensure that all of the libraries imported in functions_speller_analysis_online_latencies.py are installed\n",
    "# in your environment or in the same file pathway. \n",
    "import functions_speller_analysis_online_latencies\n",
    "import shutil\n"
   ]
  },
  {
   "cell_type": "markdown",
   "id": "06d9da3b-aaa2-418c-9a64-f87cd502e507",
   "metadata": {},
   "source": [
    "# SAVING A BACKUP OF THIS SCRIPT"
   ]
  },
  {
   "cell_type": "code",
   "execution_count": 2,
   "id": "e20ceaa9-b5a3-4eb3-9124-12e94a86d6c9",
   "metadata": {},
   "outputs": [
    {
     "data": {
      "text/plain": [
       "'/mnt/shared/danprocessing/BACKUP/Projects/PseudoOnlineTests_for_RTCoG/Scripts/SpellerAnalysis/speller_analysis_online_click_latencies.ipynb'"
      ]
     },
     "execution_count": 2,
     "metadata": {},
     "output_type": "execute_result"
    }
   ],
   "source": [
    "# Creating the original and target file directories.\n",
    "original = r'/home/dan/Projects/PseudoOnlineTests_for_RTCoG/Scripts/Recent/SpellerAnalysis/speller_analysis_online_click_latencies.ipynb'\n",
    "target   = r'/mnt/shared/danprocessing/BACKUP/Projects/PseudoOnlineTests_for_RTCoG/Scripts/SpellerAnalysis/speller_analysis_online_click_latencies.ipynb'\n",
    "\n",
    "# Saving.\n",
    "shutil.copyfile(original, target)"
   ]
  },
  {
   "cell_type": "code",
   "execution_count": 3,
   "id": "b2ade059-2d78-4108-9ee1-b7e429e22832",
   "metadata": {},
   "outputs": [],
   "source": [
    "\"\"\"\n",
    "DESCRIPTION:\n",
    "The experimenter decides which blocks from what dates will be uploaded and analyzed.\n",
    "\"\"\"\n",
    "# EXPERIMENTER INPUTS:\n",
    "patient_id = 'CC01'\n",
    "\n",
    "\"\"\"\n",
    "INPUT VARIABLES:\n",
    "date_block_dict: [dictionary (keys: strings (dates); values: list > ints (blocks)]; Dictionary of dates and blocks corresponding to each date. \n",
    "\"\"\"\n",
    "\n",
    "# COMPUTATION:\n",
    "\n",
    "# Initializing the dictionary of blocks from every date which will be used for computing latency statistics.\n",
    "date_block_dict = {}\n",
    "\n",
    "# Populating the dictionary\n",
    "date_block_dict['2023_01_12'] = [1,2,3]\n"
   ]
  },
  {
   "cell_type": "markdown",
   "id": "af9c6941-4e46-4d82-bf92-50f6bbae8aae",
   "metadata": {},
   "source": [
    "# DIRECTORIES"
   ]
  },
  {
   "cell_type": "code",
   "execution_count": 4,
   "id": "f2b5a047-193b-42b4-b018-9a7aecd5f8d5",
   "metadata": {},
   "outputs": [],
   "source": [
    "\n",
    "# EXPERIMENTER INPUTS\n",
    "dir_base = '/mnt/shared/danprocessing/Projects/PseudoOnlineTests_for_RTCoG/Intermediates/' + patient_id + '/Speller/'\n",
    "\n",
    "\"\"\"\n",
    "dir_base: [string]; Base directory where all information for this subject and task (Speller) is found.\n",
    "\"\"\";\n"
   ]
  },
  {
   "cell_type": "markdown",
   "id": "7ebea052-8cfe-4341-9919-ffa4fbd81b0d",
   "metadata": {},
   "source": [
    "# CREATING ARRAY OF LATENCY DATA FROM ALL SPECIIFIED BLOCKS"
   ]
  },
  {
   "cell_type": "code",
   "execution_count": 5,
   "id": "53eae3ed-3235-4e5f-804f-388ce44a50eb",
   "metadata": {},
   "outputs": [],
   "source": [
    "\"\"\"\n",
    "DESCRIPTION:\n",
    "Extracting all the latencies from the experimenter-input blocks into one array.\n",
    "\"\"\"\n",
    "# EXPERIMENTER INPUTS:\n",
    "movement = 'grasp'\n",
    "\n",
    "\"\"\"\n",
    "INPUT VARIABLES:\n",
    "date_block_dict: [dictionary (keys: strings (dates); values: list > ints (blocks)]; Dictionary of dates and blocks corresponding to each date. \n",
    "dir_base:        [string]; Base directory where all information for this subject and task (Speller) is found.\n",
    "movement:        [string]; The movement from which the onsets and offsets will be extracted.\n",
    "\n",
    "OUTPUT VARIABLES:\n",
    "latencies_arr: [array > floats (units: s)]; Array of latencies from all experimenter-input blocks.\n",
    "\"\"\"\n",
    "\n",
    "# COMPUTATION:\n",
    "\n",
    "# Extracting all latencies into one array.\n",
    "latencies_arr = functions_speller_analysis_online_latencies.extracting_latencies(date_block_dict, dir_base, movement)\n"
   ]
  },
  {
   "cell_type": "markdown",
   "id": "485c0474-c12e-41f5-bd11-671bce30d25f",
   "metadata": {},
   "source": [
    "# COMPUTING THE MEAN AND STANDARD DEVIATION OF THE LATENCIES"
   ]
  },
  {
   "cell_type": "code",
   "execution_count": 6,
   "id": "909218b4-837d-489b-8cc2-309c62e9d362",
   "metadata": {},
   "outputs": [
    {
     "name": "stdout",
     "output_type": "stream",
     "text": [
      "Latency Mean (s): \t 0.682\n",
      "Latency Stdev (s): \t 0.101\n"
     ]
    }
   ],
   "source": [
    "\"\"\"\n",
    "DESCRIPTION:\n",
    "Computing the mean and standard deviation of the latencies.\n",
    "\n",
    "INPUT VARIABLES:\n",
    "latencies_arr: [array > floats (units: s)]; Array of latencies from all experimenter-input blocks.\n",
    "\n",
    "OUTPUT VARIABLES:\n",
    "latencies_mean:  [float (units: s)]; Mean of latencies.\n",
    "latencies_stdev: [float (units: s)]; Standard deviation of latencies.\n",
    "\"\"\"\n",
    "\n",
    "# COMPUTATION:\n",
    "\n",
    "# Computing the mean and standard deviations.\n",
    "functions_speller_analysis_online_latencies.latency_stats(latencies_arr)\n"
   ]
  },
  {
   "cell_type": "code",
   "execution_count": null,
   "id": "bb979127-44a5-4978-ad1a-4d7294913dfa",
   "metadata": {},
   "outputs": [],
   "source": []
  }
 ],
 "metadata": {
  "kernelspec": {
   "display_name": "Python (JupyterEnv)",
   "language": "python",
   "name": "jupyterenv"
  },
  "language_info": {
   "codemirror_mode": {
    "name": "ipython",
    "version": 3
   },
   "file_extension": ".py",
   "mimetype": "text/x-python",
   "name": "python",
   "nbconvert_exporter": "python",
   "pygments_lexer": "ipython3",
   "version": "3.9.13"
  }
 },
 "nbformat": 4,
 "nbformat_minor": 5
}
