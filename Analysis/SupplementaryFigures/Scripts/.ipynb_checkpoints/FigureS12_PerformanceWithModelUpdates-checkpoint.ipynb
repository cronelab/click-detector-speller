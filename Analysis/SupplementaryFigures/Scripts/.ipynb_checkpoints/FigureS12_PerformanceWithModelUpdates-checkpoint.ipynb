{
 "cells": [
  {
   "cell_type": "markdown",
   "id": "54afa3bb-741b-4c6c-8ded-0b437f7d24e4",
   "metadata": {},
   "source": [
    "# IMPORTING LIBRARIES"
   ]
  },
  {
   "cell_type": "code",
   "execution_count": 1,
   "id": "3967870a-a83b-47fe-b333-87c4313b89a2",
   "metadata": {},
   "outputs": [],
   "source": [
    "import numpy as np\n",
    "import pandas as pd\n",
    "import scipy\n",
    "import statistics\n",
    "import matplotlib.pyplot as plt\n",
    "\n",
    "from scipy.stats import bootstrap"
   ]
  },
  {
   "cell_type": "markdown",
   "id": "f6cc580e-5067-426d-87ad-2285f305caec",
   "metadata": {},
   "source": [
    "# USING PANDAS TO IMPORT SWITCH SCANNER METRICS"
   ]
  },
  {
   "cell_type": "code",
   "execution_count": 2,
   "id": "e86a2c83-8a99-4c57-bb8b-f6883d49c529",
   "metadata": {},
   "outputs": [
    {
     "name": "stderr",
     "output_type": "stream",
     "text": [
      "/tmp/ipykernel_1012532/978500270.py:17: SettingWithCopyWarning: \n",
      "A value is trying to be set on a copy of a slice from a DataFrame.\n",
      "Try using .loc[row_indexer,col_indexer] = value instead\n",
      "\n",
      "See the caveats in the documentation: https://pandas.pydata.org/pandas-docs/stable/user_guide/indexing.html#returning-a-view-versus-a-copy\n",
      "  df_4thr_summary_updatedmodels['Date'] = df_4thr_summary_updatedmodels['Date'].str.replace('_Total', '')\n",
      "/tmp/ipykernel_1012532/978500270.py:18: SettingWithCopyWarning: \n",
      "A value is trying to be set on a copy of a slice from a DataFrame.\n",
      "Try using .loc[row_indexer,col_indexer] = value instead\n",
      "\n",
      "See the caveats in the documentation: https://pandas.pydata.org/pandas-docs/stable/user_guide/indexing.html#returning-a-view-versus-a-copy\n",
      "  df_4thr_summary_originalmodel['Date'] = df_4thr_summary_originalmodel['Date'].str.replace('_Total', '')\n"
     ]
    }
   ],
   "source": [
    "# Defining the pathway to the switch scanner metrics.\n",
    "path_switchscan_metrics_updatedmodels = '../SourceData/Performance_ModelUpdates.xlsx'\n",
    "path_switchscan_metrics_originalmodel = '../SourceData/Performance_OriginalModel_Simulation.xlsx'\n",
    "\n",
    "# Show maximum columns\n",
    "pd.set_option('display.max_columns', None)\n",
    "\n",
    "# Importing the excel sheets for 4-vote thresholds\n",
    "df_4thr_updatedmodels = pd.read_excel(path_switchscan_metrics_updatedmodels, '4_votes')\n",
    "df_4thr_originalmodel = pd.read_excel(path_switchscan_metrics_originalmodel, '4_votes')\n",
    "\n",
    "# Extracting only the summary rows for each day.\n",
    "df_4thr_summary_updatedmodels = df_4thr_updatedmodels.loc[df_4thr_updatedmodels['Date'].str.contains('Total'),:]\n",
    "df_4thr_summary_originalmodel = df_4thr_originalmodel.loc[df_4thr_originalmodel['Date'].str.contains('Total'),:]\n",
    "\n",
    "# Remove the \"_Total\" suffix from each date.\n",
    "df_4thr_summary_updatedmodels['Date'] = df_4thr_summary_updatedmodels['Date'].str.replace('_Total', '')\n",
    "df_4thr_summary_originalmodel['Date'] = df_4thr_summary_originalmodel['Date'].str.replace('_Total', '')\n"
   ]
  },
  {
   "cell_type": "markdown",
   "id": "ae5b96cd-31b0-4dc6-ac05-babea133df15",
   "metadata": {},
   "source": [
    "# REORGANIZING SUMMARY METRICS INTO DICTIONARIES"
   ]
  },
  {
   "cell_type": "code",
   "execution_count": 3,
   "id": "480c9d5c-756b-4758-b0ea-3c548a2a4df9",
   "metadata": {
    "scrolled": true,
    "tags": []
   },
   "outputs": [],
   "source": [
    "\n",
    "# Extracting the dates from each dataframe.\n",
    "dates_4thr = df_4thr_summary_updatedmodels['Date'].tolist()\n",
    "\n",
    "# Initializing the dictionaries for the summary metrics for the updated models and original model.\n",
    "summary_stats_4thr_updatedmodels = {}\n",
    "summary_stats_4thr_originalmodel = {}\n",
    "\n",
    "# Iterating across all dates using the 4-vote threshold from the updated models.\n",
    "for date in dates_4thr:\n",
    "        \n",
    "    # Extracting the sub-dataframe for the current date.\n",
    "    this_date_df = df_4thr_summary_updatedmodels.loc[df_4thr_summary_updatedmodels['Date'] == date]       \n",
    "        \n",
    "    # Initializing and populating the dictionary for the current date.\n",
    "    this_date_dict = {}\n",
    "    this_date_dict['sensitivity_mean']   = this_date_df['Sensitivity (%)']\n",
    "    this_date_dict['days_post_training'] = this_date_df['Days Post-Training']\n",
    "    this_date_dict['fpf_hr']             = this_date_df['FPF ( /hr)']\n",
    "    this_date_dict['fpf_min']            = this_date_df['FPF ( /min)']\n",
    "    this_date_dict['n_detections']       = this_date_df['N Detections']\n",
    "    this_date_dict['n_grasps']           = this_date_df['N Grasps']\n",
    "    this_date_dict['total_time']         = this_date_df['Block Time (s)']\n",
    "    this_date_dict['tpf_hr']             = this_date_df['TPF ( /hr)']\n",
    "    this_date_dict['tpf_min']            = this_date_df['TPF ( /min)']\n",
    "    \n",
    "    # Populating the Summary Stats dictionary with the current date's information.\n",
    "    summary_stats_4thr_updatedmodels[date] = this_date_dict\n",
    "    \n",
    "    \n",
    "# Iterating across all dates using the 4-vote threshold from the original model.\n",
    "for date in dates_4thr:\n",
    "        \n",
    "    # Extracting the sub-dataframe for the current date.\n",
    "    this_date_df = df_4thr_summary_originalmodel.loc[df_4thr_summary_originalmodel['Date'] == date]       \n",
    "        \n",
    "    # Initializing and populating the dictionary for the current date.\n",
    "    this_date_dict = {}\n",
    "    this_date_dict['sensitivity_mean']   = this_date_df['Sensitivity (%)']\n",
    "    this_date_dict['days_post_training'] = this_date_df['Days Post-Training']\n",
    "    this_date_dict['fpf_hr']             = this_date_df['FPF ( /hr)']\n",
    "    this_date_dict['fpf_min']            = this_date_df['FPF ( /min)']\n",
    "    this_date_dict['n_detections']       = this_date_df['N Detections']\n",
    "    this_date_dict['n_grasps']           = this_date_df['N Grasps']\n",
    "    this_date_dict['total_time']         = this_date_df['Block Time (s)']\n",
    "    this_date_dict['tpf_hr']             = this_date_df['TPF ( /hr)']\n",
    "    this_date_dict['tpf_min']            = this_date_df['TPF ( /min)']\n",
    "    \n",
    "    # Populating the Summary Stats dictionary with the current date's information.\n",
    "    summary_stats_4thr_originalmodel[date] = this_date_dict\n"
   ]
  },
  {
   "cell_type": "code",
   "execution_count": 4,
   "id": "c4aa1487-34a1-4230-a85e-57b1c27dc111",
   "metadata": {},
   "outputs": [
    {
     "name": "stdout",
     "output_type": "stream",
     "text": [
      "TPR 4-vote updated model: \n",
      "[99.046 98.858 99.065 98.983 97.842 99.079 99.155 99.419]\n",
      "\n",
      "\n",
      "TPR 4-vote original model: \n",
      "[97.71  94.29  95.794 98.983 97.302 90.424 97.297 87.597]\n",
      "\n",
      "\n",
      "Median Sensitivity (Updated Models):  99.0555\n",
      "Median Sensitivity (Original Model):  96.5455\n",
      "Median TPF (Updated Models):  11.711\n",
      "Median TPF (Original Model):  11.578\n",
      "Median FPF (Updated Models):  0.6405\n",
      "Median FPF (Original Model):  0.1565\n"
     ]
    },
    {
     "data": {
      "image/png": "[encoded data removed]",
      "text/plain": [
       "<Figure size 1200x500 with 3 Axes>"
      ]
     },
     "metadata": {},
     "output_type": "display_data"
    }
   ],
   "source": [
    "\n",
    "# EXPERIMNETER INPUTS:\n",
    "color1a    = 'navy' \n",
    "color1b    = 'royalblue'\n",
    "color2a    = 'darkcyan' \n",
    "color2b    = 'lightseagreen' \n",
    "marker1    = 'o'\n",
    "marker2    = '^'\n",
    "save_figs  = False\n",
    "\n",
    "# Extracting the Sensitivity, TPF, and FPF.\n",
    "days_post_training_4thr        = np.asarray(df_4thr_summary_updatedmodels['Days Post-Training']).astype(float)\n",
    "tpf_4thr_updatedmodels         = np.round(np.asarray(df_4thr_summary_updatedmodels['TPF ( /min)']).astype(float),3)\n",
    "fpf_4thr_updatedmodels         = np.round(np.asarray(df_4thr_summary_updatedmodels['FPF ( /min)']).astype(float),3)\n",
    "sensitivity_4thr_updatedmodels = np.round(np.asarray(df_4thr_summary_updatedmodels['Sensitivity (%)']).astype(float),3)\n",
    "tpf_4thr_originalmodel         = np.round(np.asarray(df_4thr_summary_originalmodel['TPF ( /min)']).astype(float),3)\n",
    "fpf_4thr_originalmodel         = np.round(np.asarray(df_4thr_summary_originalmodel['FPF ( /min)']).astype(float),3)\n",
    "sensitivity_4thr_originalmodel = np.round(np.asarray(df_4thr_summary_originalmodel['Sensitivity (%)']).astype(float), 3)\n",
    "\n",
    "print('TPR 4-vote updated model: ')\n",
    "print(sensitivity_4thr_updatedmodels)\n",
    "print('\\n')\n",
    "\n",
    "print('TPR 4-vote original model: ')\n",
    "print(sensitivity_4thr_originalmodel)\n",
    "print('\\n')\n",
    "\n",
    "\n",
    "# PLOTTING\n",
    "fig, ax = plt.subplots(2,1, figsize=(12,5))\n",
    "fig.tight_layout(pad=3)\n",
    "\n",
    "# ROW 1: SENSITIVITY\n",
    "ax[0].scatter(days_post_training_4thr, sensitivity_4thr_originalmodel,\\\n",
    "              color = (159/255, 179/255, 238/255),\\\n",
    "              edgecolors=(107/255, 123/255, 120/255),\\\n",
    "              linewidths=0.75,\\\n",
    "              marker=marker1,\\\n",
    "              zorder=2)\n",
    "ax[0].scatter(days_post_training_4thr, sensitivity_4thr_updatedmodels,\\\n",
    "              color = color1b,\\\n",
    "              edgecolors='black',\\\n",
    "              linewidths=0.75,\\\n",
    "              marker=marker1,\\\n",
    "              zorder=2)\n",
    "ax[0].set_yticks(np.arange(70,101,10)) \n",
    "ax[0].set_ylim([70, 105])\n",
    "ax[0].set_ylabel('Sensitivity (%)')\n",
    "ax[0].spines[['right', 'top']].set_visible(False)\n",
    "ax[0].yaxis.label.set_color('k') \n",
    "ax[0].tick_params(axis='y', colors='k')\n",
    "ax[0].spines['left'].set_color('k') \n",
    "ax[0].set_xlabel('Days')\n",
    "ax[0].set_xlim([80,115])\n",
    "ax[0].grid(axis='y', linestyle = '--', dashes=(7.5, 10))\n",
    "print('Median Sensitivity (Updated Models): ', statistics.median(sensitivity_4thr_updatedmodels))\n",
    "print('Median Sensitivity (Original Model): ', statistics.median(sensitivity_4thr_originalmodel))\n",
    "\n",
    "# ROW 2: TPF\n",
    "ax[1].scatter(days_post_training_4thr, tpf_4thr_originalmodel,\n",
    "              color = (159/255, 179/255, 238/255),\\\n",
    "              edgecolors=(107/255, 123/255, 120/255),\\\n",
    "              linewidths=0.75,\\\n",
    "              marker=marker1,\\\n",
    "              zorder=2)\n",
    "ax[1].scatter(days_post_training_4thr, tpf_4thr_updatedmodels,\\\n",
    "              color = color1b,\\\n",
    "              edgecolors='black',\\\n",
    "              linewidths=0.75,\\\n",
    "              marker=marker1, zorder=2)\n",
    "ax[1].set_ylabel('TPF (/min)')\n",
    "ax[1].set_yticks(np.arange(0,16,5)) \n",
    "ax[1].set_ylim([-1, 16])\n",
    "ax[1].yaxis.label.set_color(color1a) \n",
    "ax[1].tick_params(axis='y', colors=color1a)\n",
    "ax[1].spines[['top']].set_visible(False)\n",
    "ax[1].set_xlim([80,115])\n",
    "ax[1].set_xlabel('Days')\n",
    "ax[1].grid(axis='y', linestyle='--', dashes=(7.5, 10))\n",
    "\n",
    "ax1a = ax[1].twinx()  \n",
    "ax1a.scatter(days_post_training_4thr, fpf_4thr_originalmodel,\\\n",
    "             color = (141/255, 218/255, 212/255),\\\n",
    "             edgecolors=(107/255, 123/255, 120/255),\\\n",
    "             linewidths=0.75,\\\n",
    "             marker=marker1,\\\n",
    "             zorder=2,\\\n",
    "             alpha = 0.5)\n",
    "ax1a.scatter(days_post_training_4thr, fpf_4thr_updatedmodels,\\\n",
    "             color = color2b,\\\n",
    "             edgecolors='black',\\\n",
    "             linewidths=0.75,\\\n",
    "             marker=marker1,\\\n",
    "             zorder=2)\n",
    "ax1a.set_ylabel('FPF (/min)')\n",
    "ax1a.set_yticks(np.array([0,1,2,3])) \n",
    "ax1a.set_ylim([-0.2, 3.2])\n",
    "ax1a.spines['right'].set_color(color2a) \n",
    "ax1a.spines['left'].set_color(color1a) \n",
    "ax1a.yaxis.label.set_color(color2a) \n",
    "ax1a.tick_params(axis='y', colors=color2a)\n",
    "ax1a.spines[['top']].set_visible(False)\n",
    "\n",
    "print('Median TPF (Updated Models): ', statistics.median(tpf_4thr_updatedmodels))\n",
    "print('Median TPF (Original Model): ', statistics.median(tpf_4thr_originalmodel))\n",
    "print('Median FPF (Updated Models): ', statistics.median(fpf_4thr_updatedmodels))\n",
    "print('Median FPF (Original Model): ', statistics.median(fpf_4thr_originalmodel))\n",
    "\n",
    "if save_figs:\n",
    "    fig.savefig('PerformanceUpdatedModels.jpg', bbox_inches = 'tight', dpi=1000)\n",
    "    fig.savefig('PerformanceUpdatedModels.svg', format = 'svg', bbox_inches='tight', dpi = 2000)\n",
    "\n"
   ]
  },
  {
   "cell_type": "markdown",
   "id": "1f066b37-9c77-41da-9e5d-6d86f07a834f",
   "metadata": {},
   "source": [
    "# T-test for Performance from Updated Decoders vs. Original Decoders"
   ]
  },
  {
   "cell_type": "code",
   "execution_count": 5,
   "id": "16adc1c6-6289-474c-8212-fb629c598cc1",
   "metadata": {},
   "outputs": [
    {
     "name": "stdout",
     "output_type": "stream",
     "text": [
      "Wilcoxon Rank-Sum (Sensitivity): RanksumsResult(statistic=3.0981196859119717, pvalue=0.0019475275859466652)\n",
      "Wilcoxon Rank-Sum (TPF): RanksumsResult(statistic=2.4679936480993674, pvalue=0.01358727306399339)\n",
      "Wilcoxon Rank-Sum (FPF): RanksumsResult(statistic=2.9405881764588204, pvalue=0.003275897482908591)\n"
     ]
    }
   ],
   "source": [
    "\n",
    "print('Wilcoxon Rank-Sum (Sensitivity):', scipy.stats.ranksums(sensitivity_4thr_updatedmodels, sensitivity_4thr_originalmodel))\n",
    "print('Wilcoxon Rank-Sum (TPF):', scipy.stats.ranksums(tpf_4thr_updatedmodels, tpf_4thr_originalmodel))\n",
    "print('Wilcoxon Rank-Sum (FPF):', scipy.stats.ranksums(fpf_4thr_updatedmodels, fpf_4thr_originalmodel))\n"
   ]
  },
  {
   "cell_type": "markdown",
   "id": "827fdc50-fc0b-442b-a718-874516abf398",
   "metadata": {},
   "source": [
    "# 95% Confidence Interval of the Median for Performance Metrics"
   ]
  },
  {
   "cell_type": "code",
   "execution_count": 6,
   "id": "ca44ab23-537a-42f5-af8e-a1bfdb5501b8",
   "metadata": {},
   "outputs": [
    {
     "name": "stdout",
     "output_type": "stream",
     "text": [
      "95% CI Sensitivity (Updated models):  ConfidenceInterval(low=98.4290300271072, high=99.131625)\n",
      "95% CI Sensitivity (Original models):  ConfidenceInterval(low=91.61428485120601, high=97.04295673824129)\n",
      "95% CI TPF (Updated models):  ConfidenceInterval(low=11.664250000000001, high=11.840842821780317)\n",
      "95% CI TPF (Original models):  ConfidenceInterval(low=10.77905461718164, high=11.54725)\n",
      "95% CI FPF (Updated models):  ConfidenceInterval(low=0.7916249999999999, high=6.7892896591973235)\n",
      "95% CI FPF (Original models):  ConfidenceInterval(low=0.099125, high=0.30125)\n"
     ]
    }
   ],
   "source": [
    "\n",
    "n_resamples = 10000\n",
    "\n",
    "ci_95_tpr_4thr_updatedmodels = bootstrap((sensitivity_4thr_updatedmodels,), np.mean, confidence_level=0.95, n_resamples=n_resamples).confidence_interval\n",
    "ci_95_tpr_4thr_originalmodel = bootstrap((sensitivity_4thr_originalmodel,), np.mean, confidence_level=0.95, n_resamples=n_resamples).confidence_interval\n",
    "ci_95_tpf_4thr_updatedmodels = bootstrap((tpf_4thr_updatedmodels,), np.mean, confidence_level=0.95, n_resamples=n_resamples).confidence_interval\n",
    "ci_95_tpf_4thr_originalmodel = bootstrap((tpf_4thr_originalmodel,), np.mean, confidence_level=0.95, n_resamples=n_resamples).confidence_interval\n",
    "ci_95_fpf_4thr_updatedmodels = bootstrap((fpf_4thr_updatedmodels,), np.mean, confidence_level=0.95, n_resamples=n_resamples).confidence_interval\n",
    "ci_95_fpf_4thr_originalmodel = bootstrap((fpf_4thr_originalmodel,), np.mean, confidence_level=0.95, n_resamples=n_resamples).confidence_interval\n",
    "\n",
    "print('95% CI Sensitivity (Updated models): ', ci_95_tpr_4thr_updatedmodels)\n",
    "print('95% CI Sensitivity (Original models): ', ci_95_tpr_4thr_originalmodel)\n",
    "print('95% CI TPF (Updated models): ', ci_95_tpf_4thr_updatedmodels)\n",
    "print('95% CI TPF (Original models): ', ci_95_tpf_4thr_originalmodel)\n",
    "print('95% CI FPF (Updated models): ', ci_95_fpf_4thr_updatedmodels)\n",
    "print('95% CI FPF (Original models): ', ci_95_fpf_4thr_originalmodel)\n"
   ]
  },
  {
   "cell_type": "code",
   "execution_count": null,
   "id": "3e0ba77c-901c-40e6-8ef9-dc7c40d467a1",
   "metadata": {},
   "outputs": [],
   "source": []
  }
 ],
 "metadata": {
  "kernelspec": {
   "display_name": "Python (JupyterEnv)",
   "language": "python",
   "name": "jupyterenv"
  },
  "language_info": {
   "codemirror_mode": {
    "name": "ipython",
    "version": 3
   },
   "file_extension": ".py",
   "mimetype": "text/x-python",
   "name": "python",
   "nbconvert_exporter": "python",
   "pygments_lexer": "ipython3",
   "version": "3.9.13"
  }
 },
 "nbformat": 4,
 "nbformat_minor": 5
}
